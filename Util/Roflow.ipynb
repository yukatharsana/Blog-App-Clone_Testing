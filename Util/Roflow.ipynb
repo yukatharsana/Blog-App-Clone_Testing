{
  "cells": [
    {
      "cell_type": "markdown",
      "metadata": {
        "id": "view-in-github",
        "colab_type": "text"
      },
      "source": [
        "<a href=\"https://colab.research.google.com/github/yukatharsana/Blog-App-Clone_Testing/blob/main/Util/Roflow.ipynb\" target=\"_parent\"><img src=\"https://colab.research.google.com/assets/colab-badge.svg\" alt=\"Open In Colab\"/></a>"
      ]
    },
    {
      "cell_type": "markdown",
      "metadata": {
        "id": "78oKjOSASNs9"
      },
      "source": [
        "# Roboflow"
      ]
    },
    {
      "cell_type": "code",
      "execution_count": 1,
      "metadata": {
        "id": "qWe3SVg3SNs_"
      },
      "outputs": [],
      "source": [
        "import os"
      ]
    },
    {
      "cell_type": "code",
      "source": [
        "from google.colab import drive\n",
        "drive.mount('/content/drive')"
      ],
      "metadata": {
        "id": "cPX0tJb-SQHX",
        "outputId": "4ea96c44-9a64-42df-9e1b-2eee91dd659f",
        "colab": {
          "base_uri": "https://localhost:8080/"
        }
      },
      "execution_count": 2,
      "outputs": [
        {
          "output_type": "stream",
          "name": "stdout",
          "text": [
            "Mounted at /content/drive\n"
          ]
        }
      ]
    },
    {
      "cell_type": "code",
      "execution_count": 4,
      "metadata": {
        "id": "KOWuut2GSNtA"
      },
      "outputs": [],
      "source": [
        "work_dir='/content/drive/MyDrive/AyushVision'"
      ]
    },
    {
      "cell_type": "code",
      "execution_count": 5,
      "metadata": {
        "id": "DorVJpbdSNtB"
      },
      "outputs": [],
      "source": [
        "if not os.path.exists(work_dir):\n",
        "    os.makedirs(work_dir,exist_ok=True)"
      ]
    },
    {
      "cell_type": "code",
      "source": [
        "algorithum='yolo'"
      ],
      "metadata": {
        "id": "Q0_hP9A5SxX7"
      },
      "execution_count": 6,
      "outputs": []
    },
    {
      "cell_type": "code",
      "execution_count": 7,
      "metadata": {
        "id": "TXj6yE1rSNtB"
      },
      "outputs": [],
      "source": [
        "dataset_dir=os.path.join(work_dir,algorithum,'dataset')"
      ]
    },
    {
      "cell_type": "code",
      "execution_count": 8,
      "metadata": {
        "id": "ZXDI5MJbSNtB"
      },
      "outputs": [],
      "source": [
        "if not os.path.exists(dataset_dir):\n",
        "    os.makedirs(dataset_dir)"
      ]
    },
    {
      "cell_type": "code",
      "execution_count": 9,
      "metadata": {
        "id": "2G20k6cASNtC",
        "outputId": "1bb49c78-3428-48eb-dbf6-e4dfcc93d406",
        "colab": {
          "base_uri": "https://localhost:8080/"
        }
      },
      "outputs": [
        {
          "output_type": "stream",
          "name": "stdout",
          "text": [
            "Collecting roboflow\n",
            "  Downloading roboflow-1.1.44-py3-none-any.whl.metadata (9.7 kB)\n",
            "Requirement already satisfied: certifi in /usr/local/lib/python3.10/dist-packages (from roboflow) (2024.8.30)\n",
            "Collecting idna==3.7 (from roboflow)\n",
            "  Downloading idna-3.7-py3-none-any.whl.metadata (9.9 kB)\n",
            "Requirement already satisfied: cycler in /usr/local/lib/python3.10/dist-packages (from roboflow) (0.12.1)\n",
            "Requirement already satisfied: kiwisolver>=1.3.1 in /usr/local/lib/python3.10/dist-packages (from roboflow) (1.4.5)\n",
            "Requirement already satisfied: matplotlib in /usr/local/lib/python3.10/dist-packages (from roboflow) (3.7.1)\n",
            "Requirement already satisfied: numpy>=1.18.5 in /usr/local/lib/python3.10/dist-packages (from roboflow) (1.26.4)\n",
            "Requirement already satisfied: opencv-python-headless==4.10.0.84 in /usr/local/lib/python3.10/dist-packages (from roboflow) (4.10.0.84)\n",
            "Requirement already satisfied: Pillow>=7.1.2 in /usr/local/lib/python3.10/dist-packages (from roboflow) (9.4.0)\n",
            "Requirement already satisfied: python-dateutil in /usr/local/lib/python3.10/dist-packages (from roboflow) (2.8.2)\n",
            "Collecting python-dotenv (from roboflow)\n",
            "  Downloading python_dotenv-1.0.1-py3-none-any.whl.metadata (23 kB)\n",
            "Requirement already satisfied: requests in /usr/local/lib/python3.10/dist-packages (from roboflow) (2.32.3)\n",
            "Requirement already satisfied: six in /usr/local/lib/python3.10/dist-packages (from roboflow) (1.16.0)\n",
            "Requirement already satisfied: urllib3>=1.26.6 in /usr/local/lib/python3.10/dist-packages (from roboflow) (2.0.7)\n",
            "Requirement already satisfied: tqdm>=4.41.0 in /usr/local/lib/python3.10/dist-packages (from roboflow) (4.66.5)\n",
            "Requirement already satisfied: PyYAML>=5.3.1 in /usr/local/lib/python3.10/dist-packages (from roboflow) (6.0.2)\n",
            "Collecting requests-toolbelt (from roboflow)\n",
            "  Downloading requests_toolbelt-1.0.0-py2.py3-none-any.whl.metadata (14 kB)\n",
            "Collecting filetype (from roboflow)\n",
            "  Downloading filetype-1.2.0-py2.py3-none-any.whl.metadata (6.5 kB)\n",
            "Requirement already satisfied: contourpy>=1.0.1 in /usr/local/lib/python3.10/dist-packages (from matplotlib->roboflow) (1.3.0)\n",
            "Requirement already satisfied: fonttools>=4.22.0 in /usr/local/lib/python3.10/dist-packages (from matplotlib->roboflow) (4.53.1)\n",
            "Requirement already satisfied: packaging>=20.0 in /usr/local/lib/python3.10/dist-packages (from matplotlib->roboflow) (24.1)\n",
            "Requirement already satisfied: pyparsing>=2.3.1 in /usr/local/lib/python3.10/dist-packages (from matplotlib->roboflow) (3.1.4)\n",
            "Requirement already satisfied: charset-normalizer<4,>=2 in /usr/local/lib/python3.10/dist-packages (from requests->roboflow) (3.3.2)\n",
            "Downloading roboflow-1.1.44-py3-none-any.whl (79 kB)\n",
            "\u001b[2K   \u001b[90m━━━━━━━━━━━━━━━━━━━━━━━━━━━━━━━━━━━━━━━━\u001b[0m \u001b[32m79.9/79.9 kB\u001b[0m \u001b[31m9.0 MB/s\u001b[0m eta \u001b[36m0:00:00\u001b[0m\n",
            "\u001b[?25hDownloading idna-3.7-py3-none-any.whl (66 kB)\n",
            "\u001b[2K   \u001b[90m━━━━━━━━━━━━━━━━━━━━━━━━━━━━━━━━━━━━━━━━\u001b[0m \u001b[32m66.8/66.8 kB\u001b[0m \u001b[31m7.3 MB/s\u001b[0m eta \u001b[36m0:00:00\u001b[0m\n",
            "\u001b[?25hDownloading filetype-1.2.0-py2.py3-none-any.whl (19 kB)\n",
            "Downloading python_dotenv-1.0.1-py3-none-any.whl (19 kB)\n",
            "Downloading requests_toolbelt-1.0.0-py2.py3-none-any.whl (54 kB)\n",
            "\u001b[2K   \u001b[90m━━━━━━━━━━━━━━━━━━━━━━━━━━━━━━━━━━━━━━━━\u001b[0m \u001b[32m54.5/54.5 kB\u001b[0m \u001b[31m5.8 MB/s\u001b[0m eta \u001b[36m0:00:00\u001b[0m\n",
            "\u001b[?25hInstalling collected packages: filetype, python-dotenv, idna, requests-toolbelt, roboflow\n",
            "  Attempting uninstall: idna\n",
            "    Found existing installation: idna 3.8\n",
            "    Uninstalling idna-3.8:\n",
            "      Successfully uninstalled idna-3.8\n",
            "Successfully installed filetype-1.2.0 idna-3.7 python-dotenv-1.0.1 requests-toolbelt-1.0.0 roboflow-1.1.44\n"
          ]
        }
      ],
      "source": [
        "! pip install roboflow"
      ]
    },
    {
      "cell_type": "code",
      "execution_count": 10,
      "metadata": {
        "id": "qS2HcKtTSNtC"
      },
      "outputs": [],
      "source": [
        "from roboflow import Roboflow"
      ]
    },
    {
      "cell_type": "markdown",
      "metadata": {
        "id": "1oA0dmDwSNtC"
      },
      "source": [
        "## Roboflow Root"
      ]
    },
    {
      "cell_type": "code",
      "execution_count": null,
      "metadata": {
        "id": "cACvvKMbSNtD",
        "outputId": "17c28ddb-34b0-401a-f20f-5bba8a0f7284",
        "colab": {
          "base_uri": "https://localhost:8080/"
        }
      },
      "outputs": [
        {
          "output_type": "stream",
          "name": "stdout",
          "text": [
            "loading Roboflow workspace...\n",
            "loading Roboflow project...\n",
            "[WARNING] we noticed you are downloading a `yolov8` datasets but you don't have `ultralytics` installed. Roboflow `.deploy` supports only models trained with `ultralytics==8.0.196`, to intall it `pip install ultralytics==8.0.196`.\n"
          ]
        },
        {
          "output_type": "stream",
          "name": "stderr",
          "text": [
            "Downloading Dataset Version Zip in /content/drive/MyDrive/AyushVision/yolo8/dataset/ayushvision_root to yolov8:: 100%|██████████| 24066/24066 [00:04<00:00, 5851.58it/s]"
          ]
        },
        {
          "output_type": "stream",
          "name": "stdout",
          "text": [
            "\n"
          ]
        },
        {
          "output_type": "stream",
          "name": "stderr",
          "text": [
            "\n",
            "Extracting Dataset Version Zip to /content/drive/MyDrive/AyushVision/yolo8/dataset/ayushvision_root in yolov8:: 100%|██████████| 972/972 [00:11<00:00, 81.22it/s]\n"
          ]
        }
      ],
      "source": [
        "rf = Roboflow(api_key=\"KvYzBayallmQzuRDfNc3\")\n",
        "project = rf.workspace(\"ayushvision\").project(\"ayushvision_root\")\n",
        "version = project.version(2)\n",
        "dataset = version.download(\"yolov8\",location=f'{dataset_dir}/ayushvision_root')"
      ]
    },
    {
      "cell_type": "markdown",
      "metadata": {
        "id": "AXTrKUVHSNtD"
      },
      "source": [
        "## Roboflow Flower"
      ]
    },
    {
      "cell_type": "markdown",
      "source": [
        "[account](sivamahee212@gmail.com)\n",
        "[dataset](/content/drive/MyDrive/AyushVision/yolo/dataset)"
      ],
      "metadata": {
        "id": "sBhbQUNN8860"
      }
    },
    {
      "cell_type": "code",
      "execution_count": null,
      "metadata": {
        "id": "U3D0ETgHSNtD",
        "outputId": "0938ee5c-b874-452e-b7f5-02aadd535df5",
        "colab": {
          "base_uri": "https://localhost:8080/"
        }
      },
      "outputs": [
        {
          "output_type": "stream",
          "name": "stdout",
          "text": [
            "loading Roboflow workspace...\n",
            "loading Roboflow project...\n",
            "[WARNING] we noticed you are downloading a `yolov8` datasets but you don't have `ultralytics` installed. Roboflow `.deploy` supports only models trained with `ultralytics==8.0.196`, to intall it `pip install ultralytics==8.0.196`.\n"
          ]
        },
        {
          "output_type": "stream",
          "name": "stderr",
          "text": [
            "Downloading Dataset Version Zip in /content/drive/MyDrive/AyushVision/yolo/dataset/ayushvision_flowers-ckd0d to yolov8:: 100%|██████████| 38691/38691 [00:00<00:00, 43251.50it/s]"
          ]
        },
        {
          "output_type": "stream",
          "name": "stdout",
          "text": [
            "\n"
          ]
        },
        {
          "output_type": "stream",
          "name": "stderr",
          "text": [
            "\n",
            "Extracting Dataset Version Zip to /content/drive/MyDrive/AyushVision/yolo/dataset/ayushvision_flowers-ckd0d in yolov8:: 100%|██████████| 1932/1932 [00:00<00:00, 5634.68it/s]\n"
          ]
        }
      ],
      "source": [
        "rf = Roboflow(api_key=\"iW0ic53GGPbz3kP5MbgZ\")\n",
        "project = rf.workspace(\"research-piohe\").project(\"ayushvision_flowers-ckd0d\")\n",
        "version = project.version(2)\n",
        "dataset = version.download(\"yolov8\",location=f'{dataset_dir}/ayushvision_flowers-ckd0d')\n",
        "\n",
        "\n"
      ]
    },
    {
      "cell_type": "code",
      "source": [
        "rf = Roboflow(api_key=\"KvYzBayallmQzuRDfNc3\")\n",
        "project = rf.workspace(\"ayushvision\").project(\"ayushvision_flowers\")\n",
        "version = project.version(3)\n",
        "dataset = version.download(\"yolov8\",location=f'{dataset_dir}/ayushvision_flowers')\n",
        "\n"
      ],
      "metadata": {
        "id": "vaJ0Z1sF8EbL",
        "outputId": "27acdc4a-0073-43d9-c407-93d4f5625b47",
        "colab": {
          "base_uri": "https://localhost:8080/"
        }
      },
      "execution_count": null,
      "outputs": [
        {
          "output_type": "stream",
          "name": "stdout",
          "text": [
            "loading Roboflow workspace...\n",
            "loading Roboflow project...\n",
            "[WARNING] we noticed you are downloading a `yolov8` datasets but you don't have `ultralytics` installed. Roboflow `.deploy` supports only models trained with `ultralytics==8.0.196`, to intall it `pip install ultralytics==8.0.196`.\n"
          ]
        },
        {
          "output_type": "stream",
          "name": "stderr",
          "text": [
            "Downloading Dataset Version Zip in /content/drive/MyDrive/AyushVision/yolo/dataset/ayushvision_flowers to yolov8:: 100%|██████████| 137157/137157 [00:04<00:00, 32862.21it/s]"
          ]
        },
        {
          "output_type": "stream",
          "name": "stdout",
          "text": [
            "\n"
          ]
        },
        {
          "output_type": "stream",
          "name": "stderr",
          "text": [
            "\n",
            "Extracting Dataset Version Zip to /content/drive/MyDrive/AyushVision/yolo/dataset/ayushvision_flowers in yolov8:: 100%|██████████| 8652/8652 [00:01<00:00, 4493.91it/s]\n"
          ]
        }
      ]
    },
    {
      "cell_type": "markdown",
      "metadata": {
        "id": "83ZU_1SXSNtD"
      },
      "source": [
        "## Roboflow Rawfruit"
      ]
    },
    {
      "cell_type": "markdown",
      "source": [
        "[account](rainorobot334567@gmail.com)\n",
        "[dataset](https://drive.google.com/drive/folders/1UFvjVE4IlkzTMmcu7YCI_nHWPp9RvmfL)"
      ],
      "metadata": {
        "id": "6IOfpfxfYOvH"
      }
    },
    {
      "cell_type": "code",
      "execution_count": null,
      "metadata": {
        "id": "cH_cc3jrSNtD",
        "outputId": "934f1386-e31d-41a4-837a-6ddca43e2809",
        "colab": {
          "base_uri": "https://localhost:8080/"
        }
      },
      "outputs": [
        {
          "output_type": "stream",
          "name": "stdout",
          "text": [
            "loading Roboflow workspace...\n",
            "loading Roboflow project...\n",
            "[WARNING] we noticed you are downloading a `yolov8` datasets but you don't have `ultralytics` installed. Roboflow `.deploy` supports only models trained with `ultralytics==8.0.196`, to intall it `pip install ultralytics==8.0.196`.\n"
          ]
        },
        {
          "output_type": "stream",
          "name": "stderr",
          "text": [
            "Downloading Dataset Version Zip in /content/drive/MyDrive/AyushVision/yolo8/dataset/ayushvision_fruits to yolov8:: 100%|██████████| 115751/115751 [00:14<00:00, 8245.26it/s]"
          ]
        },
        {
          "output_type": "stream",
          "name": "stdout",
          "text": [
            "\n"
          ]
        },
        {
          "output_type": "stream",
          "name": "stderr",
          "text": [
            "\n",
            "Extracting Dataset Version Zip to /content/drive/MyDrive/AyushVision/yolo8/dataset/ayushvision_fruits in yolov8:: 100%|██████████| 7680/7680 [01:21<00:00, 94.19it/s] \n"
          ]
        }
      ],
      "source": [
        "rf = Roboflow(api_key=\"KvYzBayallmQzuRDfNc3\")\n",
        "project = rf.workspace(\"ayushvision\").project(\"ayushvision_fruits\")\n",
        "version = project.version(1)\n",
        "dataset = version.download(\"yolov8\",location=f'{dataset_dir}/ayushvision_fruits')\n"
      ]
    },
    {
      "cell_type": "code",
      "source": [
        "rf = Roboflow(api_key=\"iW0ic53GGPbz3kP5MbgZ\")\n",
        "project = rf.workspace(\"research-piohe\").project(\"ayushvision_rawfruit\")\n",
        "version = project.version(2)\n",
        "dataset = version.download(\"yolov8\",location=f'{dataset_dir}/ayushvision_rawfruit')\n"
      ],
      "metadata": {
        "id": "-QPprVt5UQoK",
        "outputId": "3d07f9fc-b60c-43f3-b687-52c49747332d",
        "colab": {
          "base_uri": "https://localhost:8080/"
        }
      },
      "execution_count": null,
      "outputs": [
        {
          "output_type": "stream",
          "name": "stdout",
          "text": [
            "loading Roboflow workspace...\n",
            "loading Roboflow project...\n",
            "[WARNING] we noticed you are downloading a `yolov8` datasets but you don't have `ultralytics` installed. Roboflow `.deploy` supports only models trained with `ultralytics==8.0.196`, to intall it `pip install ultralytics==8.0.196`.\n"
          ]
        },
        {
          "output_type": "stream",
          "name": "stderr",
          "text": [
            "Downloading Dataset Version Zip in /content/drive/MyDrive/AyushVision/yolo8/dataset/ayushvision_rawfruit to yolov8:: 100%|██████████| 19234/19234 [00:03<00:00, 5925.50it/s]\n"
          ]
        },
        {
          "output_type": "stream",
          "name": "stdout",
          "text": [
            "\n"
          ]
        },
        {
          "output_type": "stream",
          "name": "stderr",
          "text": [
            "Extracting Dataset Version Zip to /content/drive/MyDrive/AyushVision/yolo8/dataset/ayushvision_rawfruit in yolov8:: 100%|██████████| 970/970 [00:09<00:00, 98.35it/s]\n"
          ]
        }
      ]
    },
    {
      "cell_type": "markdown",
      "source": [
        "## RoboFlow Leaves"
      ],
      "metadata": {
        "id": "QWlhtiUSiVQi"
      }
    },
    {
      "cell_type": "code",
      "source": [
        "rf = Roboflow(api_key=\"iW0ic53GGPbz3kP5MbgZ\")\n",
        "project = rf.workspace(\"research-piohe\").project(\"ayushvision_leaf\")\n",
        "version = project.version(1)\n",
        "dataset = version.download(\"yolov8\",location=f'{dataset_dir}/ayushvision_leaf')"
      ],
      "metadata": {
        "id": "ETfChPioiZ_I",
        "outputId": "a18c5711-9548-4508-9ae0-a8b187ca8b10",
        "colab": {
          "base_uri": "https://localhost:8080/"
        }
      },
      "execution_count": null,
      "outputs": [
        {
          "output_type": "stream",
          "name": "stdout",
          "text": [
            "loading Roboflow workspace...\n",
            "loading Roboflow project...\n",
            "[WARNING] we noticed you are downloading a `yolov8` datasets but you don't have `ultralytics` installed. Roboflow `.deploy` supports only models trained with `ultralytics==8.0.196`, to intall it `pip install ultralytics==8.0.196`.\n"
          ]
        },
        {
          "output_type": "stream",
          "name": "stderr",
          "text": [
            "Downloading Dataset Version Zip in /content/drive/MyDrive/AyushVision/yolo/dataset/ayushvision_leaf to yolov8:: 100%|██████████| 846214/846214 [01:41<00:00, 8355.70it/s]"
          ]
        },
        {
          "output_type": "stream",
          "name": "stdout",
          "text": [
            "\n"
          ]
        },
        {
          "output_type": "stream",
          "name": "stderr",
          "text": [
            "\n",
            "Extracting Dataset Version Zip to /content/drive/MyDrive/AyushVision/yolo/dataset/ayushvision_leaf in yolov8:: 100%|██████████| 43182/43182 [09:03<00:00, 79.46it/s]\n"
          ]
        }
      ]
    },
    {
      "cell_type": "code",
      "source": [
        "rf = Roboflow(api_key=\"KvYzBayallmQzuRDfNc3\")\n",
        "project = rf.workspace(\"ayushvision\").project(\"ayushvision_leaves\")\n",
        "version = project.version(1)\n",
        "dataset = version.download(\"yolov8\",location=f'{dataset_dir}/ayushvision_leaves')\n"
      ],
      "metadata": {
        "id": "JLFZqKVstb16",
        "outputId": "2c55e0e6-5c72-4f4f-c57f-0e7cef8de00e",
        "colab": {
          "base_uri": "https://localhost:8080/"
        }
      },
      "execution_count": null,
      "outputs": [
        {
          "output_type": "stream",
          "name": "stdout",
          "text": [
            "loading Roboflow workspace...\n",
            "loading Roboflow project...\n",
            "[WARNING] we noticed you are downloading a `yolov8` datasets but you don't have `ultralytics` installed. Roboflow `.deploy` supports only models trained with `ultralytics==8.0.196`, to intall it `pip install ultralytics==8.0.196`.\n"
          ]
        },
        {
          "output_type": "stream",
          "name": "stderr",
          "text": [
            "Downloading Dataset Version Zip in /content/drive/MyDrive/AyushVision/yolo/dataset/ayushvision_leaves to yolov8:: 100%|██████████| 507847/507847 [01:04<00:00, 7869.79it/s]"
          ]
        },
        {
          "output_type": "stream",
          "name": "stdout",
          "text": [
            "\n"
          ]
        },
        {
          "output_type": "stream",
          "name": "stderr",
          "text": [
            "\n",
            "Extracting Dataset Version Zip to /content/drive/MyDrive/AyushVision/yolo/dataset/ayushvision_leaves in yolov8:: 100%|██████████| 26394/26394 [05:20<00:00, 82.28it/s]\n"
          ]
        }
      ]
    },
    {
      "cell_type": "code",
      "source": [
        "rf = Roboflow(api_key=\"BzKpiDnYkCo8x82UoNhT\")\n",
        "project = rf.workspace(\"ayushvision-kfa1k\").project(\"ayushvision_leaf-yarpv\")\n",
        "version = project.version(1)\n",
        "dataset = version.download(\"yolov8\",location=f'{dataset_dir}/ayushvision_leaf-yarpv')\n",
        "#iit19015@std.uwu.ac.lk\n"
      ],
      "metadata": {
        "colab": {
          "base_uri": "https://localhost:8080/"
        },
        "id": "GmQuCmSGVB_g",
        "outputId": "c003e84d-90d0-4721-8526-05f31a40aad3"
      },
      "execution_count": null,
      "outputs": [
        {
          "output_type": "stream",
          "name": "stdout",
          "text": [
            "loading Roboflow workspace...\n",
            "loading Roboflow project...\n",
            "[WARNING] we noticed you are downloading a `yolov8` datasets but you don't have `ultralytics` installed. Roboflow `.deploy` supports only models trained with `ultralytics==8.0.196`, to intall it `pip install ultralytics==8.0.196`.\n"
          ]
        },
        {
          "output_type": "stream",
          "name": "stderr",
          "text": [
            "Downloading Dataset Version Zip in /content/drive/MyDrive/AyushVision/yolo/dataset/ayushvision_leaf-yarpv to yolov8:: 100%|██████████| 89801/89801 [00:07<00:00, 11704.82it/s]"
          ]
        },
        {
          "output_type": "stream",
          "name": "stdout",
          "text": [
            "\n"
          ]
        },
        {
          "output_type": "stream",
          "name": "stderr",
          "text": [
            "\n",
            "Extracting Dataset Version Zip to /content/drive/MyDrive/AyushVision/yolo/dataset/ayushvision_leaf-yarpv in yolov8:: 100%|██████████| 7212/7212 [00:55<00:00, 129.55it/s]\n"
          ]
        }
      ]
    },
    {
      "cell_type": "markdown",
      "source": [
        "## Roboflow Tumber"
      ],
      "metadata": {
        "id": "NphyVpR_zYRP"
      }
    },
    {
      "cell_type": "code",
      "source": [
        "rf = Roboflow(api_key=\"KvYzBayallmQzuRDfNc3\")\n",
        "project = rf.workspace(\"ayushvision\").project(\"ayushvision_tuber\")\n",
        "version = project.version(2)\n",
        "dataset = version.download(\"yolov8\",location=f'{dataset_dir}/ayushvision_tuber')\n",
        ""
      ],
      "metadata": {
        "id": "lAoA3vIWzcvd",
        "outputId": "4867b68a-6f41-4a62-ca4f-a084ca395a2c",
        "colab": {
          "base_uri": "https://localhost:8080/"
        }
      },
      "execution_count": 11,
      "outputs": [
        {
          "output_type": "stream",
          "name": "stdout",
          "text": [
            "loading Roboflow workspace...\n",
            "loading Roboflow project...\n",
            "[WARNING] we noticed you are downloading a `yolov8` datasets but you don't have `ultralytics` installed. Roboflow `.deploy` supports only models trained with `ultralytics==8.0.196`, to intall it `pip install ultralytics==8.0.196`.\n"
          ]
        },
        {
          "output_type": "stream",
          "name": "stderr",
          "text": [
            "Downloading Dataset Version Zip in /content/drive/MyDrive/AyushVision/yolo/dataset/ayushvision_tuber to yolov8:: 100%|██████████| 82282/82282 [00:08<00:00, 10029.24it/s]"
          ]
        },
        {
          "output_type": "stream",
          "name": "stdout",
          "text": [
            "\n"
          ]
        },
        {
          "output_type": "stream",
          "name": "stderr",
          "text": [
            "\n",
            "Extracting Dataset Version Zip to /content/drive/MyDrive/AyushVision/yolo/dataset/ayushvision_tuber in yolov8:: 100%|██████████| 2892/2892 [00:22<00:00, 125.93it/s]\n"
          ]
        }
      ]
    },
    {
      "cell_type": "markdown",
      "source": [
        "## SSD"
      ],
      "metadata": {
        "id": "Wawndv8ae3q-"
      }
    },
    {
      "cell_type": "markdown",
      "source": [
        "# root"
      ],
      "metadata": {
        "id": "CTIz7exEe7vu"
      }
    },
    {
      "cell_type": "markdown",
      "source": [
        "[account](thanujan126@gmail.com)\n",
        "[dataset](https://drive.google.com/drive/folders/1UFvjVE4IlkzTMmcu7YCI_nHWPp9RvmfL)"
      ],
      "metadata": {
        "id": "R--_Vj-yhgi6"
      }
    },
    {
      "cell_type": "code",
      "source": [
        "rf = Roboflow(api_key=\"KvYzBayallmQzuRDfNc3\")\n",
        "project = rf.workspace(\"ayushvision\").project(\"ayushvision_root\")\n",
        "version = project.version(3)\n",
        "dataset = version.download(\"voc\",location=f'{dataset_dir}/ayushvision_root')\n"
      ],
      "metadata": {
        "colab": {
          "base_uri": "https://localhost:8080/"
        },
        "id": "p46TW8cGe2hE",
        "outputId": "a3d53664-b63f-4f11-cb60-6f324b601f9d"
      },
      "execution_count": null,
      "outputs": [
        {
          "output_type": "stream",
          "name": "stdout",
          "text": [
            "loading Roboflow workspace...\n",
            "loading Roboflow project...\n"
          ]
        },
        {
          "output_type": "stream",
          "name": "stderr",
          "text": [
            "Downloading Dataset Version Zip in /content/drive/MyDrive/AyushVision/ssd/dataset/ayushvision_root to voc:: 100%|██████████| 6541/6541 [00:01<00:00, 4659.92it/s]"
          ]
        },
        {
          "output_type": "stream",
          "name": "stdout",
          "text": [
            "\n"
          ]
        },
        {
          "output_type": "stream",
          "name": "stderr",
          "text": [
            "\n",
            "Extracting Dataset Version Zip to /content/drive/MyDrive/AyushVision/ssd/dataset/ayushvision_root in voc:: 100%|██████████| 965/965 [00:11<00:00, 83.50it/s]\n"
          ]
        }
      ]
    }
  ],
  "metadata": {
    "language_info": {
      "name": "python"
    },
    "colab": {
      "provenance": [],
      "toc_visible": true,
      "include_colab_link": true
    },
    "kernelspec": {
      "name": "python3",
      "display_name": "Python 3"
    }
  },
  "nbformat": 4,
  "nbformat_minor": 0
}