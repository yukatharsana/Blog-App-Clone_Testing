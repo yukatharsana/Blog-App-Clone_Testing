{
  "cells": [
    {
      "cell_type": "markdown",
      "metadata": {
        "id": "view-in-github",
        "colab_type": "text"
      },
      "source": [
        "<a href=\"https://colab.research.google.com/github/yukatharsana/Blog-App-Clone_Testing/blob/main/Algorithums/detection/Yolo/YOLO_FLOWER.ipynb\" target=\"_parent\"><img src=\"https://colab.research.google.com/assets/colab-badge.svg\" alt=\"Open In Colab\"/></a>"
      ]
    },
    {
      "cell_type": "markdown",
      "metadata": {
        "id": "mWi18aj0n7HU"
      },
      "source": [
        "# YOLO Flower"
      ]
    },
    {
      "cell_type": "markdown",
      "metadata": {
        "id": "0CM_KjiNtVB7"
      },
      "source": [
        "## Colab"
      ]
    },
    {
      "cell_type": "code",
      "execution_count": null,
      "metadata": {
        "colab": {
          "base_uri": "https://localhost:8080/"
        },
        "id": "3r-r4NsGoIwe",
        "outputId": "d54bf6e8-1dcf-4dd8-b036-d05bc8a08b1b"
      },
      "outputs": [
        {
          "output_type": "stream",
          "name": "stdout",
          "text": [
            "Mounted at /content/drive\n"
          ]
        }
      ],
      "source": [
        "from google.colab import drive\n",
        "drive.mount('/content/drive')"
      ]
    },
    {
      "cell_type": "code",
      "execution_count": null,
      "metadata": {
        "id": "ZKSwn8-clJNR"
      },
      "outputs": [],
      "source": [
        "basicdata={'account':'sanashajeeva@gmail.com','user':\"Yuka\"}\n"
      ]
    },
    {
      "cell_type": "code",
      "execution_count": null,
      "metadata": {
        "colab": {
          "base_uri": "https://localhost:8080/"
        },
        "id": "z0Q4dWFHbYdR",
        "outputId": "5b9da04a-af2c-4e77-9657-1215584bac9f"
      },
      "outputs": [
        {
          "output_type": "stream",
          "name": "stdout",
          "text": [
            "Generating locales (this might take a while)...\n",
            "  en_US.UTF-8... done\n",
            "Generation complete.\n"
          ]
        }
      ],
      "source": [
        "! locale-gen en_US.UTF-8\n",
        "! export LC_ALL=en_US.UTF-8"
      ]
    },
    {
      "cell_type": "markdown",
      "metadata": {
        "id": "h4jrfd8WtYpd"
      },
      "source": [
        "## Intallations"
      ]
    },
    {
      "cell_type": "code",
      "execution_count": null,
      "metadata": {
        "colab": {
          "base_uri": "https://localhost:8080/"
        },
        "id": "uRKGcqEKhzzt",
        "outputId": "a62e395e-8fba-423c-fc01-15245b4a9b39"
      },
      "outputs": [
        {
          "output_type": "stream",
          "name": "stdout",
          "text": [
            "Requirement already satisfied: firebase-admin in /usr/local/lib/python3.10/dist-packages (6.5.0)\n",
            "Requirement already satisfied: cachecontrol>=0.12.6 in /usr/local/lib/python3.10/dist-packages (from firebase-admin) (0.14.0)\n",
            "Requirement already satisfied: google-api-python-client>=1.7.8 in /usr/local/lib/python3.10/dist-packages (from firebase-admin) (2.137.0)\n",
            "Requirement already satisfied: google-cloud-storage>=1.37.1 in /usr/local/lib/python3.10/dist-packages (from firebase-admin) (2.8.0)\n",
            "Requirement already satisfied: pyjwt>=2.5.0 in /usr/local/lib/python3.10/dist-packages (from pyjwt[crypto]>=2.5.0->firebase-admin) (2.9.0)\n",
            "Requirement already satisfied: google-api-core<3.0.0dev,>=1.22.1 in /usr/local/lib/python3.10/dist-packages (from google-api-core[grpc]<3.0.0dev,>=1.22.1; platform_python_implementation != \"PyPy\"->firebase-admin) (2.19.1)\n",
            "Requirement already satisfied: google-cloud-firestore>=2.9.1 in /usr/local/lib/python3.10/dist-packages (from firebase-admin) (2.16.1)\n",
            "Requirement already satisfied: requests>=2.16.0 in /usr/local/lib/python3.10/dist-packages (from cachecontrol>=0.12.6->firebase-admin) (2.32.3)\n",
            "Requirement already satisfied: msgpack<2.0.0,>=0.5.2 in /usr/local/lib/python3.10/dist-packages (from cachecontrol>=0.12.6->firebase-admin) (1.0.8)\n",
            "Requirement already satisfied: googleapis-common-protos<2.0.dev0,>=1.56.2 in /usr/local/lib/python3.10/dist-packages (from google-api-core<3.0.0dev,>=1.22.1->google-api-core[grpc]<3.0.0dev,>=1.22.1; platform_python_implementation != \"PyPy\"->firebase-admin) (1.63.2)\n",
            "Requirement already satisfied: protobuf!=3.20.0,!=3.20.1,!=4.21.0,!=4.21.1,!=4.21.2,!=4.21.3,!=4.21.4,!=4.21.5,<6.0.0.dev0,>=3.19.5 in /usr/local/lib/python3.10/dist-packages (from google-api-core<3.0.0dev,>=1.22.1->google-api-core[grpc]<3.0.0dev,>=1.22.1; platform_python_implementation != \"PyPy\"->firebase-admin) (3.20.3)\n",
            "Requirement already satisfied: proto-plus<2.0.0dev,>=1.22.3 in /usr/local/lib/python3.10/dist-packages (from google-api-core<3.0.0dev,>=1.22.1->google-api-core[grpc]<3.0.0dev,>=1.22.1; platform_python_implementation != \"PyPy\"->firebase-admin) (1.24.0)\n",
            "Requirement already satisfied: google-auth<3.0.dev0,>=2.14.1 in /usr/local/lib/python3.10/dist-packages (from google-api-core<3.0.0dev,>=1.22.1->google-api-core[grpc]<3.0.0dev,>=1.22.1; platform_python_implementation != \"PyPy\"->firebase-admin) (2.27.0)\n",
            "Requirement already satisfied: grpcio<2.0dev,>=1.33.2 in /usr/local/lib/python3.10/dist-packages (from google-api-core[grpc]<3.0.0dev,>=1.22.1; platform_python_implementation != \"PyPy\"->firebase-admin) (1.64.1)\n",
            "Requirement already satisfied: grpcio-status<2.0.dev0,>=1.33.2 in /usr/local/lib/python3.10/dist-packages (from google-api-core[grpc]<3.0.0dev,>=1.22.1; platform_python_implementation != \"PyPy\"->firebase-admin) (1.48.2)\n",
            "Requirement already satisfied: httplib2<1.dev0,>=0.19.0 in /usr/local/lib/python3.10/dist-packages (from google-api-python-client>=1.7.8->firebase-admin) (0.22.0)\n",
            "Requirement already satisfied: google-auth-httplib2<1.0.0,>=0.2.0 in /usr/local/lib/python3.10/dist-packages (from google-api-python-client>=1.7.8->firebase-admin) (0.2.0)\n",
            "Requirement already satisfied: uritemplate<5,>=3.0.1 in /usr/local/lib/python3.10/dist-packages (from google-api-python-client>=1.7.8->firebase-admin) (4.1.1)\n",
            "Requirement already satisfied: google-cloud-core<3.0.0dev,>=1.4.1 in /usr/local/lib/python3.10/dist-packages (from google-cloud-firestore>=2.9.1->firebase-admin) (2.4.1)\n",
            "Requirement already satisfied: google-resumable-media>=2.3.2 in /usr/local/lib/python3.10/dist-packages (from google-cloud-storage>=1.37.1->firebase-admin) (2.7.1)\n",
            "Requirement already satisfied: cryptography>=3.4.0 in /usr/local/lib/python3.10/dist-packages (from pyjwt[crypto]>=2.5.0->firebase-admin) (42.0.8)\n",
            "Requirement already satisfied: cffi>=1.12 in /usr/local/lib/python3.10/dist-packages (from cryptography>=3.4.0->pyjwt[crypto]>=2.5.0->firebase-admin) (1.17.0)\n",
            "Requirement already satisfied: cachetools<6.0,>=2.0.0 in /usr/local/lib/python3.10/dist-packages (from google-auth<3.0.dev0,>=2.14.1->google-api-core<3.0.0dev,>=1.22.1->google-api-core[grpc]<3.0.0dev,>=1.22.1; platform_python_implementation != \"PyPy\"->firebase-admin) (5.4.0)\n",
            "Requirement already satisfied: pyasn1-modules>=0.2.1 in /usr/local/lib/python3.10/dist-packages (from google-auth<3.0.dev0,>=2.14.1->google-api-core<3.0.0dev,>=1.22.1->google-api-core[grpc]<3.0.0dev,>=1.22.1; platform_python_implementation != \"PyPy\"->firebase-admin) (0.4.0)\n",
            "Requirement already satisfied: rsa<5,>=3.1.4 in /usr/local/lib/python3.10/dist-packages (from google-auth<3.0.dev0,>=2.14.1->google-api-core<3.0.0dev,>=1.22.1->google-api-core[grpc]<3.0.0dev,>=1.22.1; platform_python_implementation != \"PyPy\"->firebase-admin) (4.9)\n",
            "Requirement already satisfied: google-crc32c<2.0dev,>=1.0 in /usr/local/lib/python3.10/dist-packages (from google-resumable-media>=2.3.2->google-cloud-storage>=1.37.1->firebase-admin) (1.5.0)\n",
            "Requirement already satisfied: pyparsing!=3.0.0,!=3.0.1,!=3.0.2,!=3.0.3,<4,>=2.4.2 in /usr/local/lib/python3.10/dist-packages (from httplib2<1.dev0,>=0.19.0->google-api-python-client>=1.7.8->firebase-admin) (3.1.2)\n",
            "Requirement already satisfied: charset-normalizer<4,>=2 in /usr/local/lib/python3.10/dist-packages (from requests>=2.16.0->cachecontrol>=0.12.6->firebase-admin) (3.3.2)\n",
            "Requirement already satisfied: idna<4,>=2.5 in /usr/local/lib/python3.10/dist-packages (from requests>=2.16.0->cachecontrol>=0.12.6->firebase-admin) (3.7)\n",
            "Requirement already satisfied: urllib3<3,>=1.21.1 in /usr/local/lib/python3.10/dist-packages (from requests>=2.16.0->cachecontrol>=0.12.6->firebase-admin) (2.0.7)\n",
            "Requirement already satisfied: certifi>=2017.4.17 in /usr/local/lib/python3.10/dist-packages (from requests>=2.16.0->cachecontrol>=0.12.6->firebase-admin) (2024.7.4)\n",
            "Requirement already satisfied: pycparser in /usr/local/lib/python3.10/dist-packages (from cffi>=1.12->cryptography>=3.4.0->pyjwt[crypto]>=2.5.0->firebase-admin) (2.22)\n",
            "Requirement already satisfied: pyasn1<0.7.0,>=0.4.6 in /usr/local/lib/python3.10/dist-packages (from pyasn1-modules>=0.2.1->google-auth<3.0.dev0,>=2.14.1->google-api-core<3.0.0dev,>=1.22.1->google-api-core[grpc]<3.0.0dev,>=1.22.1; platform_python_implementation != \"PyPy\"->firebase-admin) (0.6.0)\n"
          ]
        }
      ],
      "source": [
        "!pip install firebase-admin"
      ]
    },
    {
      "cell_type": "code",
      "execution_count": null,
      "metadata": {
        "colab": {
          "base_uri": "https://localhost:8080/"
        },
        "id": "xx51cd0goqWi",
        "outputId": "a8697056-ffbe-42e6-83e0-215c11544e6b"
      },
      "outputs": [
        {
          "output_type": "stream",
          "name": "stdout",
          "text": [
            "Requirement already satisfied: ultralytics in /usr/local/lib/python3.10/dist-packages (8.2.75)\n",
            "Requirement already satisfied: numpy<2.0.0,>=1.23.0 in /usr/local/lib/python3.10/dist-packages (from ultralytics) (1.26.4)\n",
            "Requirement already satisfied: matplotlib>=3.3.0 in /usr/local/lib/python3.10/dist-packages (from ultralytics) (3.7.1)\n",
            "Requirement already satisfied: opencv-python>=4.6.0 in /usr/local/lib/python3.10/dist-packages (from ultralytics) (4.10.0.84)\n",
            "Requirement already satisfied: pillow>=7.1.2 in /usr/local/lib/python3.10/dist-packages (from ultralytics) (9.4.0)\n",
            "Requirement already satisfied: pyyaml>=5.3.1 in /usr/local/lib/python3.10/dist-packages (from ultralytics) (6.0.2)\n",
            "Requirement already satisfied: requests>=2.23.0 in /usr/local/lib/python3.10/dist-packages (from ultralytics) (2.32.3)\n",
            "Requirement already satisfied: scipy>=1.4.1 in /usr/local/lib/python3.10/dist-packages (from ultralytics) (1.13.1)\n",
            "Requirement already satisfied: torch>=1.8.0 in /usr/local/lib/python3.10/dist-packages (from ultralytics) (2.3.1+cu121)\n",
            "Requirement already satisfied: torchvision>=0.9.0 in /usr/local/lib/python3.10/dist-packages (from ultralytics) (0.18.1+cu121)\n",
            "Requirement already satisfied: tqdm>=4.64.0 in /usr/local/lib/python3.10/dist-packages (from ultralytics) (4.66.5)\n",
            "Requirement already satisfied: psutil in /usr/local/lib/python3.10/dist-packages (from ultralytics) (5.9.5)\n",
            "Requirement already satisfied: py-cpuinfo in /usr/local/lib/python3.10/dist-packages (from ultralytics) (9.0.0)\n",
            "Requirement already satisfied: pandas>=1.1.4 in /usr/local/lib/python3.10/dist-packages (from ultralytics) (2.1.4)\n",
            "Requirement already satisfied: seaborn>=0.11.0 in /usr/local/lib/python3.10/dist-packages (from ultralytics) (0.13.1)\n",
            "Requirement already satisfied: ultralytics-thop>=2.0.0 in /usr/local/lib/python3.10/dist-packages (from ultralytics) (2.0.0)\n",
            "Requirement already satisfied: contourpy>=1.0.1 in /usr/local/lib/python3.10/dist-packages (from matplotlib>=3.3.0->ultralytics) (1.2.1)\n",
            "Requirement already satisfied: cycler>=0.10 in /usr/local/lib/python3.10/dist-packages (from matplotlib>=3.3.0->ultralytics) (0.12.1)\n",
            "Requirement already satisfied: fonttools>=4.22.0 in /usr/local/lib/python3.10/dist-packages (from matplotlib>=3.3.0->ultralytics) (4.53.1)\n",
            "Requirement already satisfied: kiwisolver>=1.0.1 in /usr/local/lib/python3.10/dist-packages (from matplotlib>=3.3.0->ultralytics) (1.4.5)\n",
            "Requirement already satisfied: packaging>=20.0 in /usr/local/lib/python3.10/dist-packages (from matplotlib>=3.3.0->ultralytics) (24.1)\n",
            "Requirement already satisfied: pyparsing>=2.3.1 in /usr/local/lib/python3.10/dist-packages (from matplotlib>=3.3.0->ultralytics) (3.1.2)\n",
            "Requirement already satisfied: python-dateutil>=2.7 in /usr/local/lib/python3.10/dist-packages (from matplotlib>=3.3.0->ultralytics) (2.8.2)\n",
            "Requirement already satisfied: pytz>=2020.1 in /usr/local/lib/python3.10/dist-packages (from pandas>=1.1.4->ultralytics) (2024.1)\n",
            "Requirement already satisfied: tzdata>=2022.1 in /usr/local/lib/python3.10/dist-packages (from pandas>=1.1.4->ultralytics) (2024.1)\n",
            "Requirement already satisfied: charset-normalizer<4,>=2 in /usr/local/lib/python3.10/dist-packages (from requests>=2.23.0->ultralytics) (3.3.2)\n",
            "Requirement already satisfied: idna<4,>=2.5 in /usr/local/lib/python3.10/dist-packages (from requests>=2.23.0->ultralytics) (3.7)\n",
            "Requirement already satisfied: urllib3<3,>=1.21.1 in /usr/local/lib/python3.10/dist-packages (from requests>=2.23.0->ultralytics) (2.0.7)\n",
            "Requirement already satisfied: certifi>=2017.4.17 in /usr/local/lib/python3.10/dist-packages (from requests>=2.23.0->ultralytics) (2024.7.4)\n",
            "Requirement already satisfied: filelock in /usr/local/lib/python3.10/dist-packages (from torch>=1.8.0->ultralytics) (3.15.4)\n",
            "Requirement already satisfied: typing-extensions>=4.8.0 in /usr/local/lib/python3.10/dist-packages (from torch>=1.8.0->ultralytics) (4.12.2)\n",
            "Requirement already satisfied: sympy in /usr/local/lib/python3.10/dist-packages (from torch>=1.8.0->ultralytics) (1.13.1)\n",
            "Requirement already satisfied: networkx in /usr/local/lib/python3.10/dist-packages (from torch>=1.8.0->ultralytics) (3.3)\n",
            "Requirement already satisfied: jinja2 in /usr/local/lib/python3.10/dist-packages (from torch>=1.8.0->ultralytics) (3.1.4)\n",
            "Requirement already satisfied: fsspec in /usr/local/lib/python3.10/dist-packages (from torch>=1.8.0->ultralytics) (2024.6.1)\n",
            "Requirement already satisfied: nvidia-cuda-nvrtc-cu12==12.1.105 in /usr/local/lib/python3.10/dist-packages (from torch>=1.8.0->ultralytics) (12.1.105)\n",
            "Requirement already satisfied: nvidia-cuda-runtime-cu12==12.1.105 in /usr/local/lib/python3.10/dist-packages (from torch>=1.8.0->ultralytics) (12.1.105)\n",
            "Requirement already satisfied: nvidia-cuda-cupti-cu12==12.1.105 in /usr/local/lib/python3.10/dist-packages (from torch>=1.8.0->ultralytics) (12.1.105)\n",
            "Requirement already satisfied: nvidia-cudnn-cu12==8.9.2.26 in /usr/local/lib/python3.10/dist-packages (from torch>=1.8.0->ultralytics) (8.9.2.26)\n",
            "Requirement already satisfied: nvidia-cublas-cu12==12.1.3.1 in /usr/local/lib/python3.10/dist-packages (from torch>=1.8.0->ultralytics) (12.1.3.1)\n",
            "Requirement already satisfied: nvidia-cufft-cu12==11.0.2.54 in /usr/local/lib/python3.10/dist-packages (from torch>=1.8.0->ultralytics) (11.0.2.54)\n",
            "Requirement already satisfied: nvidia-curand-cu12==10.3.2.106 in /usr/local/lib/python3.10/dist-packages (from torch>=1.8.0->ultralytics) (10.3.2.106)\n",
            "Requirement already satisfied: nvidia-cusolver-cu12==11.4.5.107 in /usr/local/lib/python3.10/dist-packages (from torch>=1.8.0->ultralytics) (11.4.5.107)\n",
            "Requirement already satisfied: nvidia-cusparse-cu12==12.1.0.106 in /usr/local/lib/python3.10/dist-packages (from torch>=1.8.0->ultralytics) (12.1.0.106)\n",
            "Requirement already satisfied: nvidia-nccl-cu12==2.20.5 in /usr/local/lib/python3.10/dist-packages (from torch>=1.8.0->ultralytics) (2.20.5)\n",
            "Requirement already satisfied: nvidia-nvtx-cu12==12.1.105 in /usr/local/lib/python3.10/dist-packages (from torch>=1.8.0->ultralytics) (12.1.105)\n",
            "Requirement already satisfied: triton==2.3.1 in /usr/local/lib/python3.10/dist-packages (from torch>=1.8.0->ultralytics) (2.3.1)\n",
            "Requirement already satisfied: nvidia-nvjitlink-cu12 in /usr/local/lib/python3.10/dist-packages (from nvidia-cusolver-cu12==11.4.5.107->torch>=1.8.0->ultralytics) (12.6.20)\n",
            "Requirement already satisfied: six>=1.5 in /usr/local/lib/python3.10/dist-packages (from python-dateutil>=2.7->matplotlib>=3.3.0->ultralytics) (1.16.0)\n",
            "Requirement already satisfied: MarkupSafe>=2.0 in /usr/local/lib/python3.10/dist-packages (from jinja2->torch>=1.8.0->ultralytics) (2.1.5)\n",
            "Requirement already satisfied: mpmath<1.4,>=1.1.0 in /usr/local/lib/python3.10/dist-packages (from sympy->torch>=1.8.0->ultralytics) (1.3.0)\n"
          ]
        }
      ],
      "source": [
        "!pip install ultralytics"
      ]
    },
    {
      "cell_type": "markdown",
      "metadata": {
        "id": "dF-FeFKVtc0j"
      },
      "source": [
        "## Imports"
      ]
    },
    {
      "cell_type": "code",
      "execution_count": null,
      "metadata": {
        "id": "LA6879REh_Yu"
      },
      "outputs": [],
      "source": [
        "import firebase_admin\n"
      ]
    },
    {
      "cell_type": "code",
      "execution_count": null,
      "metadata": {
        "id": "TxfkdTzEiEie"
      },
      "outputs": [],
      "source": [
        "from firebase_admin import credentials,storage\n"
      ]
    },
    {
      "cell_type": "code",
      "execution_count": null,
      "metadata": {
        "id": "Z1wqn3xWiGgv"
      },
      "outputs": [],
      "source": [
        "from firebase_admin import firestore"
      ]
    },
    {
      "cell_type": "code",
      "execution_count": null,
      "metadata": {
        "id": "vWoaQzKEn7He"
      },
      "outputs": [],
      "source": [
        "from ultralytics import YOLO"
      ]
    },
    {
      "cell_type": "code",
      "execution_count": null,
      "metadata": {
        "id": "2vAitzxpoa7a"
      },
      "outputs": [],
      "source": [
        "from datetime import date,datetime"
      ]
    },
    {
      "cell_type": "code",
      "execution_count": null,
      "metadata": {
        "id": "QXBrUhRTn7Hg"
      },
      "outputs": [],
      "source": [
        "import os"
      ]
    },
    {
      "cell_type": "code",
      "execution_count": null,
      "metadata": {
        "id": "3H26Ktufn7Hh"
      },
      "outputs": [],
      "source": [
        "import numpy as np"
      ]
    },
    {
      "cell_type": "code",
      "execution_count": null,
      "metadata": {
        "id": "YX-4QEzwn7Hi"
      },
      "outputs": [],
      "source": [
        "from matplotlib import pyplot as plt"
      ]
    },
    {
      "cell_type": "code",
      "execution_count": null,
      "metadata": {
        "id": "VPtnbmKmpo6w"
      },
      "outputs": [],
      "source": [
        "import random"
      ]
    },
    {
      "cell_type": "code",
      "execution_count": null,
      "metadata": {
        "id": "3zftmIrTuI99"
      },
      "outputs": [],
      "source": [
        "import yaml"
      ]
    },
    {
      "cell_type": "code",
      "source": [
        "import csv"
      ],
      "metadata": {
        "id": "Ao5cEidSgm4D"
      },
      "execution_count": null,
      "outputs": []
    },
    {
      "cell_type": "code",
      "source": [
        "import json"
      ],
      "metadata": {
        "id": "W9ZafQyMgoug"
      },
      "execution_count": null,
      "outputs": []
    },
    {
      "cell_type": "markdown",
      "metadata": {
        "id": "VLe9eLGetyX_"
      },
      "source": [
        "## Config"
      ]
    },
    {
      "cell_type": "code",
      "execution_count": 132,
      "metadata": {
        "id": "c_qNgMdot0QK"
      },
      "outputs": [],
      "source": [
        "epochs=30\n",
        "imageSize=640\n",
        "optimizer='Adam'\n",
        "dropout=0.1"
      ]
    },
    {
      "cell_type": "markdown",
      "metadata": {
        "id": "xPNvfYoiKmz8"
      },
      "source": [
        "### Dirctory"
      ]
    },
    {
      "cell_type": "code",
      "execution_count": 133,
      "metadata": {
        "id": "hrtvf7FqKZzj"
      },
      "outputs": [],
      "source": [
        "work_dirctory=\"/content/drive/MyDrive/AyushVision/yolo8/training\"\n",
        "work_dirctory_root=\"/content/drive/MyDrive/AyushVision/yolo8\"\n",
        "firebase_key=\"/content/drive/MyDrive/AyushVision/ServiceKey.json\""
      ]
    },
    {
      "cell_type": "code",
      "execution_count": 134,
      "metadata": {
        "id": "NWkZ6kdWl9Tc"
      },
      "outputs": [],
      "source": [
        "today_work_dirctory=f\"{work_dirctory}/{date.today().strftime('%d_%m_%Y')}\""
      ]
    },
    {
      "cell_type": "code",
      "execution_count": 135,
      "metadata": {
        "id": "VCixGiXvmBWf"
      },
      "outputs": [],
      "source": [
        "if not os.path.exists(work_dirctory):\n",
        "  os.makedirs(work_dirctory,exist_ok=True)\n",
        "if not os.path.exists(today_work_dirctory):\n",
        "  os.makedirs(today_work_dirctory,exist_ok=True)"
      ]
    },
    {
      "cell_type": "code",
      "execution_count": 136,
      "metadata": {
        "id": "iAbj-AXXmEo7"
      },
      "outputs": [],
      "source": [
        "data=\"/content/drive/MyDrive/AyushVision/yolo8/dataset/ayushvision_flowers/data.yaml\""
      ]
    },
    {
      "cell_type": "code",
      "execution_count": 137,
      "metadata": {
        "id": "J77aImwXtlPV"
      },
      "outputs": [],
      "source": [
        "project=f\"{today_work_dirctory}/flowers/runs\"\n",
        "name=f'train{epochs}'"
      ]
    },
    {
      "cell_type": "markdown",
      "metadata": {
        "id": "XV9QP9llluYJ"
      },
      "source": [
        "## Firebase"
      ]
    },
    {
      "cell_type": "code",
      "execution_count": 85,
      "metadata": {
        "colab": {
          "base_uri": "https://localhost:8080/",
          "height": 349
        },
        "id": "RpsSJqZBiPpe",
        "outputId": "1583acc4-392e-4492-8703-4e2379b782a1"
      },
      "outputs": [
        {
          "output_type": "error",
          "ename": "ValueError",
          "evalue": "The default Firebase app already exists. This means you called initialize_app() more than once without providing an app name as the second argument. In most cases you only need to call initialize_app() once. But if you do want to initialize multiple apps, pass a second argument to initialize_app() to give each app a unique name.",
          "traceback": [
            "\u001b[0;31m---------------------------------------------------------------------------\u001b[0m",
            "\u001b[0;31mValueError\u001b[0m                                Traceback (most recent call last)",
            "\u001b[0;32m<ipython-input-85-35c6c30e55fc>\u001b[0m in \u001b[0;36m<cell line: 2>\u001b[0;34m()\u001b[0m\n\u001b[1;32m      1\u001b[0m \u001b[0mcred\u001b[0m \u001b[0;34m=\u001b[0m \u001b[0mcredentials\u001b[0m\u001b[0;34m.\u001b[0m\u001b[0mCertificate\u001b[0m\u001b[0;34m(\u001b[0m\u001b[0mfirebase_key\u001b[0m\u001b[0;34m)\u001b[0m\u001b[0;34m\u001b[0m\u001b[0;34m\u001b[0m\u001b[0m\n\u001b[0;32m----> 2\u001b[0;31m firebase_admin.initialize_app(cred,{\n\u001b[0m\u001b[1;32m      3\u001b[0m     \u001b[0;34m'storageBucket'\u001b[0m\u001b[0;34m:\u001b[0m \u001b[0;34m'ayush-vision-asw4gh.appspot.com'\u001b[0m\u001b[0;34m\u001b[0m\u001b[0;34m\u001b[0m\u001b[0m\n\u001b[1;32m      4\u001b[0m })\n",
            "\u001b[0;32m/usr/local/lib/python3.10/dist-packages/firebase_admin/__init__.py\u001b[0m in \u001b[0;36minitialize_app\u001b[0;34m(credential, options, name)\u001b[0m\n\u001b[1;32m     71\u001b[0m \u001b[0;34m\u001b[0m\u001b[0m\n\u001b[1;32m     72\u001b[0m     \u001b[0;32mif\u001b[0m \u001b[0mname\u001b[0m \u001b[0;34m==\u001b[0m \u001b[0m_DEFAULT_APP_NAME\u001b[0m\u001b[0;34m:\u001b[0m\u001b[0;34m\u001b[0m\u001b[0;34m\u001b[0m\u001b[0m\n\u001b[0;32m---> 73\u001b[0;31m         raise ValueError((\n\u001b[0m\u001b[1;32m     74\u001b[0m             \u001b[0;34m'The default Firebase app already exists. This means you called '\u001b[0m\u001b[0;34m\u001b[0m\u001b[0;34m\u001b[0m\u001b[0m\n\u001b[1;32m     75\u001b[0m             \u001b[0;34m'initialize_app() more than once without providing an app name as '\u001b[0m\u001b[0;34m\u001b[0m\u001b[0;34m\u001b[0m\u001b[0m\n",
            "\u001b[0;31mValueError\u001b[0m: The default Firebase app already exists. This means you called initialize_app() more than once without providing an app name as the second argument. In most cases you only need to call initialize_app() once. But if you do want to initialize multiple apps, pass a second argument to initialize_app() to give each app a unique name."
          ]
        }
      ],
      "source": [
        "cred = credentials.Certificate(firebase_key)\n",
        "firebase_admin.initialize_app(cred,{\n",
        "    'storageBucket': 'ayush-vision-asw4gh.appspot.com'\n",
        "})"
      ]
    },
    {
      "cell_type": "code",
      "execution_count": 138,
      "metadata": {
        "id": "UlsbRiTTj259"
      },
      "outputs": [],
      "source": [
        "db = firestore.client()"
      ]
    },
    {
      "cell_type": "code",
      "execution_count": 139,
      "metadata": {
        "id": "1MqZJtEzv4eF"
      },
      "outputs": [],
      "source": [
        "bucket = storage.bucket()"
      ]
    },
    {
      "cell_type": "code",
      "execution_count": 140,
      "metadata": {
        "id": "FjHEnE_7qSNN"
      },
      "outputs": [],
      "source": [
        "yolo_ref = db.collection(\"training\").document('yolo')\n",
        "doc = yolo_ref.get()"
      ]
    },
    {
      "cell_type": "code",
      "execution_count": 141,
      "metadata": {
        "id": "mivbo7JFl00U"
      },
      "outputs": [],
      "source": [
        "if not doc.exists:\n",
        "  doc_ref= db.collection(\"training\").document('yolo')\n",
        "  doc_ref.set({'algorithum':'yolo','version':'V8','mode':'detection','url':'ultralytics'})\n",
        "else:\n",
        "  doc_ref= yolo_ref"
      ]
    },
    {
      "cell_type": "markdown",
      "metadata": {
        "id": "LtFuKd42KznG"
      },
      "source": [
        "### Roboflow"
      ]
    },
    {
      "cell_type": "markdown",
      "metadata": {
        "id": "AapMM59Xn7Hj"
      },
      "source": [
        "## Model"
      ]
    },
    {
      "cell_type": "code",
      "execution_count": 142,
      "metadata": {
        "id": "Mwg3H-G3orDr"
      },
      "outputs": [],
      "source": [
        "today_ref=doc_ref.collection(\"Flower\").document(datetime.now().strftime(f\"%Y%m%d%H\"))"
      ]
    },
    {
      "cell_type": "code",
      "execution_count": 143,
      "metadata": {
        "id": "7UvmNAyIreO8"
      },
      "outputs": [],
      "source": [
        "basicdata['imageSize']=imageSize\n",
        "basicdata['project']=project\n",
        "basicdata['name']=name\n",
        "basicdata['training_date']=datetime.now().strftime(\"%Y/%m/%d %H:%M:%S\")\n",
        "basicdata['filename']='YOLO_FLOWER'"
      ]
    },
    {
      "cell_type": "code",
      "execution_count": 144,
      "metadata": {
        "id": "-YZRg5JWuAEM"
      },
      "outputs": [],
      "source": [
        "with open(data, 'r') as file:\n",
        "    yaml_content = yaml.safe_load(file)"
      ]
    },
    {
      "cell_type": "code",
      "execution_count": 145,
      "metadata": {
        "id": "PY06W962uaMn"
      },
      "outputs": [],
      "source": [
        "basicdata['names']=yaml_content['names']"
      ]
    },
    {
      "cell_type": "code",
      "execution_count": 146,
      "metadata": {
        "colab": {
          "base_uri": "https://localhost:8080/"
        },
        "id": "UafSx86dkAcs",
        "outputId": "4271e75c-d229-47a3-ef03-8df58a91a777"
      },
      "outputs": [
        {
          "output_type": "execute_result",
          "data": {
            "text/plain": [
              "update_time {\n",
              "  seconds: 1724220708\n",
              "  nanos: 365804000\n",
              "}"
            ]
          },
          "metadata": {},
          "execution_count": 146
        }
      ],
      "source": [
        "today_ref.set(basicdata)"
      ]
    },
    {
      "cell_type": "code",
      "execution_count": 147,
      "metadata": {
        "colab": {
          "base_uri": "https://localhost:8080/"
        },
        "id": "uTFQPVebn7Hk",
        "outputId": "cd617a48-5089-4079-e260-1968a60c5c80"
      },
      "outputs": [
        {
          "output_type": "stream",
          "name": "stdout",
          "text": [
            "Transferred 355/355 items from pretrained weights\n"
          ]
        }
      ],
      "source": [
        "yolo_model = YOLO('yolov8n.yaml').load('yolov8n.pt')"
      ]
    },
    {
      "cell_type": "markdown",
      "metadata": {
        "id": "8EMUXQQAn7Hm"
      },
      "source": [
        "#### Training"
      ]
    },
    {
      "cell_type": "code",
      "execution_count": 148,
      "metadata": {
        "colab": {
          "base_uri": "https://localhost:8080/"
        },
        "id": "cyofPiscn7Hn",
        "outputId": "d3faa80d-51a9-4eff-c018-c9e8869dc94a"
      },
      "outputs": [
        {
          "metadata": {
            "tags": null
          },
          "name": "stdout",
          "output_type": "stream",
          "text": [
            "Ultralytics YOLOv8.2.79 🚀 Python-3.10.12 torch-2.3.1+cu121 CUDA:0 (Tesla T4, 15102MiB)\n",
            "\u001b[34m\u001b[1mengine/trainer: \u001b[0mtask=detect, mode=train, model=yolov8n.yaml, data=/content/drive/MyDrive/AyushVision/yolo8/dataset/ayushvision_flowers/data.yaml, epochs=30, time=None, patience=100, batch=16, imgsz=640, save=True, save_period=-1, cache=False, device=None, workers=8, project=/content/drive/MyDrive/AyushVision/yolo8/training/21_08_2024/flowers/runs, name=train30, exist_ok=False, pretrained=yolov8n.pt, optimizer=Adam, verbose=True, seed=0, deterministic=True, single_cls=False, rect=False, cos_lr=False, close_mosaic=10, resume=False, amp=True, fraction=1.0, profile=False, freeze=None, multi_scale=False, overlap_mask=True, mask_ratio=4, dropout=0.1, val=True, split=val, save_json=False, save_hybrid=False, conf=None, iou=0.7, max_det=300, half=False, dnn=False, plots=True, source=None, vid_stride=1, stream_buffer=False, visualize=False, augment=False, agnostic_nms=False, classes=None, retina_masks=False, embed=None, show=False, save_frames=False, save_txt=False, save_conf=False, save_crop=False, show_labels=True, show_conf=True, show_boxes=True, line_width=None, format=torchscript, keras=False, optimize=False, int8=False, dynamic=False, simplify=False, opset=None, workspace=4, nms=False, lr0=0.01, lrf=0.01, momentum=0.937, weight_decay=0.0005, warmup_epochs=3.0, warmup_momentum=0.8, warmup_bias_lr=0.1, box=7.5, cls=0.5, dfl=1.5, pose=12.0, kobj=1.0, label_smoothing=0.0, nbs=64, hsv_h=0.015, hsv_s=0.7, hsv_v=0.4, degrees=0.0, translate=0.1, scale=0.5, shear=0.0, perspective=0.0, flipud=0.0, fliplr=0.5, bgr=0.0, mosaic=1.0, mixup=0.0, copy_paste=0.0, auto_augment=randaugment, erasing=0.4, crop_fraction=1.0, cfg=None, tracker=botsort.yaml, save_dir=/content/drive/MyDrive/AyushVision/yolo8/training/21_08_2024/flowers/runs/train30\n",
            "Overriding model.yaml nc=80 with nc=12\n",
            "\n",
            "                   from  n    params  module                                       arguments                     \n",
            "  0                  -1  1       464  ultralytics.nn.modules.conv.Conv             [3, 16, 3, 2]                 \n",
            "  1                  -1  1      4672  ultralytics.nn.modules.conv.Conv             [16, 32, 3, 2]                \n",
            "  2                  -1  1      7360  ultralytics.nn.modules.block.C2f             [32, 32, 1, True]             \n",
            "  3                  -1  1     18560  ultralytics.nn.modules.conv.Conv             [32, 64, 3, 2]                \n",
            "  4                  -1  2     49664  ultralytics.nn.modules.block.C2f             [64, 64, 2, True]             \n",
            "  5                  -1  1     73984  ultralytics.nn.modules.conv.Conv             [64, 128, 3, 2]               \n",
            "  6                  -1  2    197632  ultralytics.nn.modules.block.C2f             [128, 128, 2, True]           \n",
            "  7                  -1  1    295424  ultralytics.nn.modules.conv.Conv             [128, 256, 3, 2]              \n",
            "  8                  -1  1    460288  ultralytics.nn.modules.block.C2f             [256, 256, 1, True]           \n",
            "  9                  -1  1    164608  ultralytics.nn.modules.block.SPPF            [256, 256, 5]                 \n",
            " 10                  -1  1         0  torch.nn.modules.upsampling.Upsample         [None, 2, 'nearest']          \n",
            " 11             [-1, 6]  1         0  ultralytics.nn.modules.conv.Concat           [1]                           \n",
            " 12                  -1  1    148224  ultralytics.nn.modules.block.C2f             [384, 128, 1]                 \n",
            " 13                  -1  1         0  torch.nn.modules.upsampling.Upsample         [None, 2, 'nearest']          \n",
            " 14             [-1, 4]  1         0  ultralytics.nn.modules.conv.Concat           [1]                           \n",
            " 15                  -1  1     37248  ultralytics.nn.modules.block.C2f             [192, 64, 1]                  \n",
            " 16                  -1  1     36992  ultralytics.nn.modules.conv.Conv             [64, 64, 3, 2]                \n",
            " 17            [-1, 12]  1         0  ultralytics.nn.modules.conv.Concat           [1]                           \n",
            " 18                  -1  1    123648  ultralytics.nn.modules.block.C2f             [192, 128, 1]                 \n",
            " 19                  -1  1    147712  ultralytics.nn.modules.conv.Conv             [128, 128, 3, 2]              \n",
            " 20             [-1, 9]  1         0  ultralytics.nn.modules.conv.Concat           [1]                           \n",
            " 21                  -1  1    493056  ultralytics.nn.modules.block.C2f             [384, 256, 1]                 \n",
            " 22        [15, 18, 21]  1    753652  ultralytics.nn.modules.head.Detect           [12, [64, 128, 256]]          \n",
            "YOLOv8n summary: 225 layers, 3,013,188 parameters, 3,013,172 gradients, 8.2 GFLOPs\n",
            "\n",
            "Transferred 319/355 items from pretrained weights\n",
            "\u001b[34m\u001b[1mTensorBoard: \u001b[0mStart with 'tensorboard --logdir /content/drive/MyDrive/AyushVision/yolo8/training/21_08_2024/flowers/runs/train30', view at http://localhost:6006/\n",
            "Freezing layer 'model.22.dfl.conv.weight'\n",
            "\u001b[34m\u001b[1mAMP: \u001b[0mrunning Automatic Mixed Precision (AMP) checks with YOLOv8n...\n",
            "\u001b[34m\u001b[1mAMP: \u001b[0mchecks passed ✅\n"
          ]
        },
        {
          "metadata": {
            "tags": null
          },
          "name": "stderr",
          "output_type": "stream",
          "text": [
            "\u001b[34m\u001b[1mtrain: \u001b[0mScanning /content/drive/MyDrive/AyushVision/yolo8/dataset/ayushvision_flowers/train/labels.cache... 4620 images, 0 backgrounds, 0 corrupt: 100%|██████████| 4620/4620 [00:00<?, ?it/s]\n"
          ]
        },
        {
          "metadata": {
            "tags": null
          },
          "name": "stdout",
          "output_type": "stream",
          "text": [
            "\u001b[34m\u001b[1malbumentations: \u001b[0mBlur(p=0.01, blur_limit=(3, 7)), MedianBlur(p=0.01, blur_limit=(3, 7)), ToGray(p=0.01), CLAHE(p=0.01, clip_limit=(1, 4.0), tile_grid_size=(8, 8))\n"
          ]
        },
        {
          "metadata": {
            "tags": null
          },
          "name": "stderr",
          "output_type": "stream",
          "text": [
            "/usr/lib/python3.10/multiprocessing/popen_fork.py:66: RuntimeWarning: os.fork() was called. os.fork() is incompatible with multithreaded code, and JAX is multithreaded, so this will likely lead to a deadlock.\n",
            "  self.pid = os.fork()\n",
            "\u001b[34m\u001b[1mval: \u001b[0mScanning /content/drive/MyDrive/AyushVision/yolo8/dataset/ayushvision_flowers/valid/labels.cache... 441 images, 1 backgrounds, 0 corrupt: 100%|██████████| 441/441 [00:00<?, ?it/s]\n"
          ]
        },
        {
          "metadata": {
            "tags": null
          },
          "name": "stdout",
          "output_type": "stream",
          "text": [
            "Plotting labels to /content/drive/MyDrive/AyushVision/yolo8/training/21_08_2024/flowers/runs/train30/labels.jpg... \n",
            "\u001b[34m\u001b[1moptimizer:\u001b[0m Adam(lr=0.01, momentum=0.937) with parameter groups 57 weight(decay=0.0), 64 weight(decay=0.0005), 63 bias(decay=0.0)\n",
            "\u001b[34m\u001b[1mTensorBoard: \u001b[0mmodel graph visualization added ✅\n",
            "Image sizes 640 train, 640 val\n",
            "Using 2 dataloader workers\n",
            "Logging results to \u001b[1m/content/drive/MyDrive/AyushVision/yolo8/training/21_08_2024/flowers/runs/train30\u001b[0m\n",
            "Starting training for 30 epochs...\n",
            "\n",
            "      Epoch    GPU_mem   box_loss   cls_loss   dfl_loss  Instances       Size\n"
          ]
        },
        {
          "metadata": {
            "tags": null
          },
          "name": "stderr",
          "output_type": "stream",
          "text": [
            "       1/30      2.36G      1.924          3      2.117         34        640: 100%|██████████| 289/289 [02:17<00:00,  2.11it/s]\n",
            "                 Class     Images  Instances      Box(P          R      mAP50  mAP50-95): 100%|██████████| 14/14 [00:08<00:00,  1.58it/s]"
          ]
        },
        {
          "metadata": {
            "tags": null
          },
          "name": "stdout",
          "output_type": "stream",
          "text": [
            "                   all        441        683      0.488     0.0535     0.0246    0.00676\n"
          ]
        },
        {
          "metadata": {
            "tags": null
          },
          "name": "stderr",
          "output_type": "stream",
          "text": [
            "\n"
          ]
        },
        {
          "metadata": {
            "tags": null
          },
          "name": "stdout",
          "output_type": "stream",
          "text": [
            "\n",
            "      Epoch    GPU_mem   box_loss   cls_loss   dfl_loss  Instances       Size\n"
          ]
        },
        {
          "metadata": {
            "tags": null
          },
          "name": "stderr",
          "output_type": "stream",
          "text": [
            "       2/30       2.3G      1.952      2.743      2.144         39        640: 100%|██████████| 289/289 [02:09<00:00,  2.23it/s]\n",
            "                 Class     Images  Instances      Box(P          R      mAP50  mAP50-95): 100%|██████████| 14/14 [00:05<00:00,  2.44it/s]\n"
          ]
        },
        {
          "metadata": {
            "tags": null
          },
          "name": "stdout",
          "output_type": "stream",
          "text": [
            "                   all        441        683       0.17      0.259      0.143     0.0554\n",
            "\n",
            "      Epoch    GPU_mem   box_loss   cls_loss   dfl_loss  Instances       Size\n"
          ]
        },
        {
          "metadata": {
            "tags": null
          },
          "name": "stderr",
          "output_type": "stream",
          "text": [
            "       3/30      2.32G      1.866      2.537      2.055         31        640: 100%|██████████| 289/289 [02:10<00:00,  2.22it/s]\n",
            "                 Class     Images  Instances      Box(P          R      mAP50  mAP50-95): 100%|██████████| 14/14 [00:09<00:00,  1.42it/s]"
          ]
        },
        {
          "metadata": {
            "tags": null
          },
          "name": "stdout",
          "output_type": "stream",
          "text": [
            "                   all        441        683      0.228      0.146     0.0784     0.0291\n"
          ]
        },
        {
          "metadata": {
            "tags": null
          },
          "name": "stderr",
          "output_type": "stream",
          "text": [
            "\n"
          ]
        },
        {
          "metadata": {
            "tags": null
          },
          "name": "stdout",
          "output_type": "stream",
          "text": [
            "\n",
            "      Epoch    GPU_mem   box_loss   cls_loss   dfl_loss  Instances       Size\n"
          ]
        },
        {
          "metadata": {
            "tags": null
          },
          "name": "stderr",
          "output_type": "stream",
          "text": [
            "       4/30      2.29G      1.823      2.437      2.016         40        640: 100%|██████████| 289/289 [02:09<00:00,  2.24it/s]\n",
            "                 Class     Images  Instances      Box(P          R      mAP50  mAP50-95): 100%|██████████| 14/14 [00:05<00:00,  2.63it/s]"
          ]
        },
        {
          "metadata": {
            "tags": null
          },
          "name": "stdout",
          "output_type": "stream",
          "text": [
            "                   all        441        683      0.364      0.459      0.392      0.172\n"
          ]
        },
        {
          "metadata": {
            "tags": null
          },
          "name": "stderr",
          "output_type": "stream",
          "text": [
            "\n"
          ]
        },
        {
          "metadata": {
            "tags": null
          },
          "name": "stdout",
          "output_type": "stream",
          "text": [
            "\n",
            "      Epoch    GPU_mem   box_loss   cls_loss   dfl_loss  Instances       Size\n"
          ]
        },
        {
          "metadata": {
            "tags": null
          },
          "name": "stderr",
          "output_type": "stream",
          "text": [
            "       5/30      2.31G      1.775      2.323      1.962         31        640: 100%|██████████| 289/289 [02:10<00:00,  2.21it/s]\n",
            "                 Class     Images  Instances      Box(P          R      mAP50  mAP50-95): 100%|██████████| 14/14 [00:08<00:00,  1.66it/s]"
          ]
        },
        {
          "metadata": {
            "tags": null
          },
          "name": "stdout",
          "output_type": "stream",
          "text": [
            "                   all        441        683      0.393       0.46      0.417      0.187\n"
          ]
        },
        {
          "metadata": {
            "tags": null
          },
          "name": "stderr",
          "output_type": "stream",
          "text": [
            "\n"
          ]
        },
        {
          "metadata": {
            "tags": null
          },
          "name": "stdout",
          "output_type": "stream",
          "text": [
            "\n",
            "      Epoch    GPU_mem   box_loss   cls_loss   dfl_loss  Instances       Size\n"
          ]
        },
        {
          "metadata": {
            "tags": null
          },
          "name": "stderr",
          "output_type": "stream",
          "text": [
            "       6/30      2.31G      1.723      2.177      1.915         44        640: 100%|██████████| 289/289 [02:11<00:00,  2.20it/s]\n",
            "                 Class     Images  Instances      Box(P          R      mAP50  mAP50-95): 100%|██████████| 14/14 [00:07<00:00,  1.88it/s]"
          ]
        },
        {
          "metadata": {
            "tags": null
          },
          "name": "stdout",
          "output_type": "stream",
          "text": [
            "                   all        441        683      0.514      0.211      0.216     0.0949\n"
          ]
        },
        {
          "metadata": {
            "tags": null
          },
          "name": "stderr",
          "output_type": "stream",
          "text": [
            "\n"
          ]
        },
        {
          "metadata": {
            "tags": null
          },
          "name": "stdout",
          "output_type": "stream",
          "text": [
            "\n",
            "      Epoch    GPU_mem   box_loss   cls_loss   dfl_loss  Instances       Size\n"
          ]
        },
        {
          "metadata": {
            "tags": null
          },
          "name": "stderr",
          "output_type": "stream",
          "text": [
            "       7/30       2.3G      1.711      2.155      1.907         46        640: 100%|██████████| 289/289 [02:10<00:00,  2.22it/s]\n",
            "                 Class     Images  Instances      Box(P          R      mAP50  mAP50-95): 100%|██████████| 14/14 [00:05<00:00,  2.66it/s]\n"
          ]
        },
        {
          "metadata": {
            "tags": null
          },
          "name": "stdout",
          "output_type": "stream",
          "text": [
            "                   all        441        683      0.472      0.533      0.527      0.252\n",
            "\n",
            "      Epoch    GPU_mem   box_loss   cls_loss   dfl_loss  Instances       Size\n"
          ]
        },
        {
          "metadata": {
            "tags": null
          },
          "name": "stderr",
          "output_type": "stream",
          "text": [
            "       8/30      2.32G      1.683       2.09      1.871         36        640: 100%|██████████| 289/289 [02:10<00:00,  2.22it/s]\n",
            "                 Class     Images  Instances      Box(P          R      mAP50  mAP50-95): 100%|██████████| 14/14 [00:08<00:00,  1.66it/s]"
          ]
        },
        {
          "metadata": {
            "tags": null
          },
          "name": "stdout",
          "output_type": "stream",
          "text": [
            "                   all        441        683      0.529      0.546      0.558      0.273\n"
          ]
        },
        {
          "metadata": {
            "tags": null
          },
          "name": "stderr",
          "output_type": "stream",
          "text": [
            "\n"
          ]
        },
        {
          "metadata": {
            "tags": null
          },
          "name": "stdout",
          "output_type": "stream",
          "text": [
            "\n",
            "      Epoch    GPU_mem   box_loss   cls_loss   dfl_loss  Instances       Size\n"
          ]
        },
        {
          "metadata": {
            "tags": null
          },
          "name": "stderr",
          "output_type": "stream",
          "text": [
            "       9/30      2.32G      1.657      2.036      1.865         41        640: 100%|██████████| 289/289 [02:09<00:00,  2.23it/s]\n",
            "                 Class     Images  Instances      Box(P          R      mAP50  mAP50-95): 100%|██████████| 14/14 [00:06<00:00,  2.19it/s]"
          ]
        },
        {
          "metadata": {
            "tags": null
          },
          "name": "stdout",
          "output_type": "stream",
          "text": [
            "                   all        441        683      0.488      0.341      0.388      0.188\n"
          ]
        },
        {
          "metadata": {
            "tags": null
          },
          "name": "stderr",
          "output_type": "stream",
          "text": [
            "\n"
          ]
        },
        {
          "metadata": {
            "tags": null
          },
          "name": "stdout",
          "output_type": "stream",
          "text": [
            "\n",
            "      Epoch    GPU_mem   box_loss   cls_loss   dfl_loss  Instances       Size\n"
          ]
        },
        {
          "metadata": {
            "tags": null
          },
          "name": "stderr",
          "output_type": "stream",
          "text": [
            "      10/30      2.29G      1.628      1.966       1.83         44        640: 100%|██████████| 289/289 [02:11<00:00,  2.19it/s]\n",
            "                 Class     Images  Instances      Box(P          R      mAP50  mAP50-95): 100%|██████████| 14/14 [00:05<00:00,  2.68it/s]"
          ]
        },
        {
          "metadata": {
            "tags": null
          },
          "name": "stdout",
          "output_type": "stream",
          "text": [
            "                   all        441        683      0.526      0.604      0.601      0.292\n"
          ]
        },
        {
          "metadata": {
            "tags": null
          },
          "name": "stderr",
          "output_type": "stream",
          "text": [
            "\n"
          ]
        },
        {
          "metadata": {
            "tags": null
          },
          "name": "stdout",
          "output_type": "stream",
          "text": [
            "\n",
            "      Epoch    GPU_mem   box_loss   cls_loss   dfl_loss  Instances       Size\n"
          ]
        },
        {
          "metadata": {
            "tags": null
          },
          "name": "stderr",
          "output_type": "stream",
          "text": [
            "      11/30       2.3G      1.618       1.91      1.827         35        640: 100%|██████████| 289/289 [02:11<00:00,  2.20it/s]\n",
            "                 Class     Images  Instances      Box(P          R      mAP50  mAP50-95): 100%|██████████| 14/14 [00:08<00:00,  1.60it/s]"
          ]
        },
        {
          "metadata": {
            "tags": null
          },
          "name": "stdout",
          "output_type": "stream",
          "text": [
            "                   all        441        683      0.584       0.61      0.646      0.323\n"
          ]
        },
        {
          "metadata": {
            "tags": null
          },
          "name": "stderr",
          "output_type": "stream",
          "text": [
            "\n"
          ]
        },
        {
          "metadata": {
            "tags": null
          },
          "name": "stdout",
          "output_type": "stream",
          "text": [
            "\n",
            "      Epoch    GPU_mem   box_loss   cls_loss   dfl_loss  Instances       Size\n"
          ]
        },
        {
          "metadata": {
            "tags": null
          },
          "name": "stderr",
          "output_type": "stream",
          "text": [
            "      12/30      2.31G      1.603      1.882      1.811         51        640: 100%|██████████| 289/289 [02:10<00:00,  2.21it/s]\n",
            "                 Class     Images  Instances      Box(P          R      mAP50  mAP50-95): 100%|██████████| 14/14 [00:06<00:00,  2.28it/s]"
          ]
        },
        {
          "metadata": {
            "tags": null
          },
          "name": "stdout",
          "output_type": "stream",
          "text": [
            "                   all        441        683      0.658      0.608      0.672      0.341\n"
          ]
        },
        {
          "metadata": {
            "tags": null
          },
          "name": "stderr",
          "output_type": "stream",
          "text": [
            "\n"
          ]
        },
        {
          "metadata": {
            "tags": null
          },
          "name": "stdout",
          "output_type": "stream",
          "text": [
            "\n",
            "      Epoch    GPU_mem   box_loss   cls_loss   dfl_loss  Instances       Size\n"
          ]
        },
        {
          "metadata": {
            "tags": null
          },
          "name": "stderr",
          "output_type": "stream",
          "text": [
            "      13/30      2.33G      1.598      1.836      1.803         44        640: 100%|██████████| 289/289 [02:11<00:00,  2.19it/s]\n",
            "                 Class     Images  Instances      Box(P          R      mAP50  mAP50-95): 100%|██████████| 14/14 [00:05<00:00,  2.35it/s]"
          ]
        },
        {
          "metadata": {
            "tags": null
          },
          "name": "stdout",
          "output_type": "stream",
          "text": [
            "                   all        441        683      0.711      0.606      0.688      0.368\n"
          ]
        },
        {
          "metadata": {
            "tags": null
          },
          "name": "stderr",
          "output_type": "stream",
          "text": [
            "\n"
          ]
        },
        {
          "metadata": {
            "tags": null
          },
          "name": "stdout",
          "output_type": "stream",
          "text": [
            "\n",
            "      Epoch    GPU_mem   box_loss   cls_loss   dfl_loss  Instances       Size\n"
          ]
        },
        {
          "metadata": {
            "tags": null
          },
          "name": "stderr",
          "output_type": "stream",
          "text": [
            "      14/30      2.31G      1.567      1.788      1.795         40        640: 100%|██████████| 289/289 [02:13<00:00,  2.16it/s]\n",
            "                 Class     Images  Instances      Box(P          R      mAP50  mAP50-95): 100%|██████████| 14/14 [00:07<00:00,  1.95it/s]"
          ]
        },
        {
          "metadata": {
            "tags": null
          },
          "name": "stdout",
          "output_type": "stream",
          "text": [
            "                   all        441        683      0.623      0.648      0.695      0.364\n"
          ]
        },
        {
          "metadata": {
            "tags": null
          },
          "name": "stderr",
          "output_type": "stream",
          "text": [
            "\n"
          ]
        },
        {
          "metadata": {
            "tags": null
          },
          "name": "stdout",
          "output_type": "stream",
          "text": [
            "\n",
            "      Epoch    GPU_mem   box_loss   cls_loss   dfl_loss  Instances       Size\n"
          ]
        },
        {
          "metadata": {
            "tags": null
          },
          "name": "stderr",
          "output_type": "stream",
          "text": [
            "      15/30      2.32G      1.568      1.768      1.783         29        640: 100%|██████████| 289/289 [02:13<00:00,  2.16it/s]\n",
            "                 Class     Images  Instances      Box(P          R      mAP50  mAP50-95): 100%|██████████| 14/14 [00:06<00:00,  2.24it/s]"
          ]
        },
        {
          "metadata": {
            "tags": null
          },
          "name": "stdout",
          "output_type": "stream",
          "text": [
            "                   all        441        683      0.664      0.654      0.705      0.378\n"
          ]
        },
        {
          "metadata": {
            "tags": null
          },
          "name": "stderr",
          "output_type": "stream",
          "text": [
            "\n"
          ]
        },
        {
          "metadata": {
            "tags": null
          },
          "name": "stdout",
          "output_type": "stream",
          "text": [
            "\n",
            "      Epoch    GPU_mem   box_loss   cls_loss   dfl_loss  Instances       Size\n"
          ]
        },
        {
          "metadata": {
            "tags": null
          },
          "name": "stderr",
          "output_type": "stream",
          "text": [
            "      16/30      2.31G      1.549      1.721      1.752         38        640: 100%|██████████| 289/289 [02:12<00:00,  2.18it/s]\n",
            "                 Class     Images  Instances      Box(P          R      mAP50  mAP50-95): 100%|██████████| 14/14 [00:07<00:00,  1.79it/s]"
          ]
        },
        {
          "metadata": {
            "tags": null
          },
          "name": "stdout",
          "output_type": "stream",
          "text": [
            "                   all        441        683      0.708      0.644      0.712      0.372\n"
          ]
        },
        {
          "metadata": {
            "tags": null
          },
          "name": "stderr",
          "output_type": "stream",
          "text": [
            "\n"
          ]
        },
        {
          "metadata": {
            "tags": null
          },
          "name": "stdout",
          "output_type": "stream",
          "text": [
            "\n",
            "      Epoch    GPU_mem   box_loss   cls_loss   dfl_loss  Instances       Size\n"
          ]
        },
        {
          "metadata": {
            "tags": null
          },
          "name": "stderr",
          "output_type": "stream",
          "text": [
            "      17/30      2.33G      1.547      1.709      1.758         46        640: 100%|██████████| 289/289 [02:09<00:00,  2.23it/s]\n",
            "                 Class     Images  Instances      Box(P          R      mAP50  mAP50-95): 100%|██████████| 14/14 [00:05<00:00,  2.72it/s]"
          ]
        },
        {
          "metadata": {
            "tags": null
          },
          "name": "stdout",
          "output_type": "stream",
          "text": [
            "                   all        441        683      0.724      0.691      0.749      0.404\n"
          ]
        },
        {
          "metadata": {
            "tags": null
          },
          "name": "stderr",
          "output_type": "stream",
          "text": [
            "\n"
          ]
        },
        {
          "metadata": {
            "tags": null
          },
          "name": "stdout",
          "output_type": "stream",
          "text": [
            "\n",
            "      Epoch    GPU_mem   box_loss   cls_loss   dfl_loss  Instances       Size\n"
          ]
        },
        {
          "metadata": {
            "tags": null
          },
          "name": "stderr",
          "output_type": "stream",
          "text": [
            "      18/30      2.32G      1.524      1.673       1.74         28        640: 100%|██████████| 289/289 [02:09<00:00,  2.23it/s]\n",
            "                 Class     Images  Instances      Box(P          R      mAP50  mAP50-95): 100%|██████████| 14/14 [00:06<00:00,  2.12it/s]"
          ]
        },
        {
          "metadata": {
            "tags": null
          },
          "name": "stdout",
          "output_type": "stream",
          "text": [
            "                   all        441        683      0.661      0.668      0.694       0.37\n"
          ]
        },
        {
          "metadata": {
            "tags": null
          },
          "name": "stderr",
          "output_type": "stream",
          "text": [
            "\n"
          ]
        },
        {
          "metadata": {
            "tags": null
          },
          "name": "stdout",
          "output_type": "stream",
          "text": [
            "\n",
            "      Epoch    GPU_mem   box_loss   cls_loss   dfl_loss  Instances       Size\n"
          ]
        },
        {
          "metadata": {
            "tags": null
          },
          "name": "stderr",
          "output_type": "stream",
          "text": [
            "      19/30      2.32G      1.506      1.635      1.727         39        640: 100%|██████████| 289/289 [02:13<00:00,  2.17it/s]\n",
            "                 Class     Images  Instances      Box(P          R      mAP50  mAP50-95): 100%|██████████| 14/14 [00:06<00:00,  2.18it/s]"
          ]
        },
        {
          "metadata": {
            "tags": null
          },
          "name": "stdout",
          "output_type": "stream",
          "text": [
            "                   all        441        683      0.767      0.672      0.757      0.414\n"
          ]
        },
        {
          "metadata": {
            "tags": null
          },
          "name": "stderr",
          "output_type": "stream",
          "text": [
            "\n"
          ]
        },
        {
          "metadata": {
            "tags": null
          },
          "name": "stdout",
          "output_type": "stream",
          "text": [
            "\n",
            "      Epoch    GPU_mem   box_loss   cls_loss   dfl_loss  Instances       Size\n"
          ]
        },
        {
          "metadata": {
            "tags": null
          },
          "name": "stderr",
          "output_type": "stream",
          "text": [
            "      20/30      2.29G      1.517      1.609      1.735         39        640: 100%|██████████| 289/289 [02:10<00:00,  2.21it/s]\n",
            "                 Class     Images  Instances      Box(P          R      mAP50  mAP50-95): 100%|██████████| 14/14 [00:05<00:00,  2.66it/s]"
          ]
        },
        {
          "metadata": {
            "tags": null
          },
          "name": "stdout",
          "output_type": "stream",
          "text": [
            "                   all        441        683      0.736      0.697      0.769      0.416\n"
          ]
        },
        {
          "metadata": {
            "tags": null
          },
          "name": "stderr",
          "output_type": "stream",
          "text": [
            "\n"
          ]
        },
        {
          "metadata": {
            "tags": null
          },
          "name": "stdout",
          "output_type": "stream",
          "text": [
            "Closing dataloader mosaic\n",
            "\u001b[34m\u001b[1malbumentations: \u001b[0mBlur(p=0.01, blur_limit=(3, 7)), MedianBlur(p=0.01, blur_limit=(3, 7)), ToGray(p=0.01), CLAHE(p=0.01, clip_limit=(1, 4.0), tile_grid_size=(8, 8))\n"
          ]
        },
        {
          "metadata": {
            "tags": null
          },
          "name": "stderr",
          "output_type": "stream",
          "text": [
            "/usr/lib/python3.10/multiprocessing/popen_fork.py:66: RuntimeWarning: os.fork() was called. os.fork() is incompatible with multithreaded code, and JAX is multithreaded, so this will likely lead to a deadlock.\n",
            "  self.pid = os.fork()\n",
            "/usr/lib/python3.10/multiprocessing/popen_fork.py:66: RuntimeWarning: os.fork() was called. os.fork() is incompatible with multithreaded code, and JAX is multithreaded, so this will likely lead to a deadlock.\n",
            "  self.pid = os.fork()\n"
          ]
        },
        {
          "metadata": {
            "tags": null
          },
          "name": "stdout",
          "output_type": "stream",
          "text": [
            "\n",
            "      Epoch    GPU_mem   box_loss   cls_loss   dfl_loss  Instances       Size\n"
          ]
        },
        {
          "metadata": {
            "tags": null
          },
          "name": "stderr",
          "output_type": "stream",
          "text": [
            "      21/30      2.47G       1.51      1.487      1.839         16        640: 100%|██████████| 289/289 [02:06<00:00,  2.28it/s]\n",
            "                 Class     Images  Instances      Box(P          R      mAP50  mAP50-95): 100%|██████████| 14/14 [00:06<00:00,  2.01it/s]"
          ]
        },
        {
          "metadata": {
            "tags": null
          },
          "name": "stdout",
          "output_type": "stream",
          "text": [
            "                   all        441        683      0.705       0.74      0.777      0.434\n"
          ]
        },
        {
          "metadata": {
            "tags": null
          },
          "name": "stderr",
          "output_type": "stream",
          "text": [
            "\n"
          ]
        },
        {
          "metadata": {
            "tags": null
          },
          "name": "stdout",
          "output_type": "stream",
          "text": [
            "\n",
            "      Epoch    GPU_mem   box_loss   cls_loss   dfl_loss  Instances       Size\n"
          ]
        },
        {
          "metadata": {
            "tags": null
          },
          "name": "stderr",
          "output_type": "stream",
          "text": [
            "      22/30      2.31G      1.476       1.39      1.807         13        640: 100%|██████████| 289/289 [02:03<00:00,  2.33it/s]\n",
            "                 Class     Images  Instances      Box(P          R      mAP50  mAP50-95): 100%|██████████| 14/14 [00:07<00:00,  1.79it/s]"
          ]
        },
        {
          "metadata": {
            "tags": null
          },
          "name": "stdout",
          "output_type": "stream",
          "text": [
            "                   all        441        683      0.734      0.757      0.806      0.456\n"
          ]
        },
        {
          "metadata": {
            "tags": null
          },
          "name": "stderr",
          "output_type": "stream",
          "text": [
            "\n"
          ]
        },
        {
          "metadata": {
            "tags": null
          },
          "name": "stdout",
          "output_type": "stream",
          "text": [
            "\n",
            "      Epoch    GPU_mem   box_loss   cls_loss   dfl_loss  Instances       Size\n"
          ]
        },
        {
          "metadata": {
            "tags": null
          },
          "name": "stderr",
          "output_type": "stream",
          "text": [
            "      23/30       2.3G      1.451      1.331      1.779         42        640: 100%|██████████| 289/289 [02:02<00:00,  2.35it/s]\n",
            "                 Class     Images  Instances      Box(P          R      mAP50  mAP50-95): 100%|██████████| 14/14 [00:08<00:00,  1.71it/s]"
          ]
        },
        {
          "metadata": {
            "tags": null
          },
          "name": "stdout",
          "output_type": "stream",
          "text": [
            "                   all        441        683      0.745      0.734      0.783      0.445\n"
          ]
        },
        {
          "metadata": {
            "tags": null
          },
          "name": "stderr",
          "output_type": "stream",
          "text": [
            "\n"
          ]
        },
        {
          "metadata": {
            "tags": null
          },
          "name": "stdout",
          "output_type": "stream",
          "text": [
            "\n",
            "      Epoch    GPU_mem   box_loss   cls_loss   dfl_loss  Instances       Size\n"
          ]
        },
        {
          "metadata": {
            "tags": null
          },
          "name": "stderr",
          "output_type": "stream",
          "text": [
            "      24/30       2.3G      1.448      1.288      1.771         28        640: 100%|██████████| 289/289 [02:03<00:00,  2.35it/s]\n",
            "                 Class     Images  Instances      Box(P          R      mAP50  mAP50-95): 100%|██████████| 14/14 [00:09<00:00,  1.55it/s]"
          ]
        },
        {
          "metadata": {
            "tags": null
          },
          "name": "stdout",
          "output_type": "stream",
          "text": [
            "                   all        441        683      0.757      0.747      0.791      0.472\n"
          ]
        },
        {
          "metadata": {
            "tags": null
          },
          "name": "stderr",
          "output_type": "stream",
          "text": [
            "\n"
          ]
        },
        {
          "metadata": {
            "tags": null
          },
          "name": "stdout",
          "output_type": "stream",
          "text": [
            "\n",
            "      Epoch    GPU_mem   box_loss   cls_loss   dfl_loss  Instances       Size\n"
          ]
        },
        {
          "metadata": {
            "tags": null
          },
          "name": "stderr",
          "output_type": "stream",
          "text": [
            "      25/30      2.29G      1.409      1.247      1.747         14        640: 100%|██████████| 289/289 [02:14<00:00,  2.15it/s]\n",
            "                 Class     Images  Instances      Box(P          R      mAP50  mAP50-95): 100%|██████████| 14/14 [00:09<00:00,  1.53it/s]"
          ]
        },
        {
          "metadata": {
            "tags": null
          },
          "name": "stdout",
          "output_type": "stream",
          "text": [
            "                   all        441        683      0.749      0.764      0.814      0.489\n"
          ]
        },
        {
          "metadata": {
            "tags": null
          },
          "name": "stderr",
          "output_type": "stream",
          "text": [
            "\n"
          ]
        },
        {
          "metadata": {
            "tags": null
          },
          "name": "stdout",
          "output_type": "stream",
          "text": [
            "\n",
            "      Epoch    GPU_mem   box_loss   cls_loss   dfl_loss  Instances       Size\n"
          ]
        },
        {
          "metadata": {
            "tags": null
          },
          "name": "stderr",
          "output_type": "stream",
          "text": [
            "      26/30      2.31G      1.383      1.189      1.721         20        640: 100%|██████████| 289/289 [02:04<00:00,  2.33it/s]\n",
            "                 Class     Images  Instances      Box(P          R      mAP50  mAP50-95): 100%|██████████| 14/14 [00:07<00:00,  1.95it/s]"
          ]
        },
        {
          "metadata": {
            "tags": null
          },
          "name": "stdout",
          "output_type": "stream",
          "text": [
            "                   all        441        683      0.753      0.799      0.817      0.494\n"
          ]
        },
        {
          "metadata": {
            "tags": null
          },
          "name": "stderr",
          "output_type": "stream",
          "text": [
            "\n"
          ]
        },
        {
          "metadata": {
            "tags": null
          },
          "name": "stdout",
          "output_type": "stream",
          "text": [
            "\n",
            "      Epoch    GPU_mem   box_loss   cls_loss   dfl_loss  Instances       Size\n"
          ]
        },
        {
          "output_type": "stream",
          "name": "stderr",
          "text": [
            "      27/30       2.3G      1.374      1.149      1.708         17        640: 100%|██████████| 289/289 [02:07<00:00,  2.27it/s]\n",
            "                 Class     Images  Instances      Box(P          R      mAP50  mAP50-95): 100%|██████████| 14/14 [00:05<00:00,  2.73it/s]"
          ]
        },
        {
          "output_type": "stream",
          "name": "stdout",
          "text": [
            "                   all        441        683      0.842      0.757      0.842      0.505\n"
          ]
        },
        {
          "output_type": "stream",
          "name": "stderr",
          "text": [
            "\n"
          ]
        },
        {
          "output_type": "stream",
          "name": "stdout",
          "text": [
            "\n",
            "      Epoch    GPU_mem   box_loss   cls_loss   dfl_loss  Instances       Size\n"
          ]
        },
        {
          "output_type": "stream",
          "name": "stderr",
          "text": [
            "      28/30       2.3G      1.351      1.114      1.678         30        640: 100%|██████████| 289/289 [02:05<00:00,  2.30it/s]\n",
            "                 Class     Images  Instances      Box(P          R      mAP50  mAP50-95): 100%|██████████| 14/14 [00:05<00:00,  2.49it/s]"
          ]
        },
        {
          "output_type": "stream",
          "name": "stdout",
          "text": [
            "                   all        441        683      0.811      0.745      0.836      0.515\n"
          ]
        },
        {
          "output_type": "stream",
          "name": "stderr",
          "text": [
            "\n"
          ]
        },
        {
          "output_type": "stream",
          "name": "stdout",
          "text": [
            "\n",
            "      Epoch    GPU_mem   box_loss   cls_loss   dfl_loss  Instances       Size\n"
          ]
        },
        {
          "output_type": "stream",
          "name": "stderr",
          "text": [
            "      29/30      2.29G       1.33      1.076      1.663         15        640: 100%|██████████| 289/289 [02:04<00:00,  2.33it/s]\n",
            "                 Class     Images  Instances      Box(P          R      mAP50  mAP50-95): 100%|██████████| 14/14 [00:07<00:00,  1.89it/s]"
          ]
        },
        {
          "output_type": "stream",
          "name": "stdout",
          "text": [
            "                   all        441        683      0.774      0.797      0.845      0.519\n"
          ]
        },
        {
          "output_type": "stream",
          "name": "stderr",
          "text": [
            "\n"
          ]
        },
        {
          "output_type": "stream",
          "name": "stdout",
          "text": [
            "\n",
            "      Epoch    GPU_mem   box_loss   cls_loss   dfl_loss  Instances       Size\n"
          ]
        },
        {
          "output_type": "stream",
          "name": "stderr",
          "text": [
            "      30/30      2.29G      1.304      1.046      1.639         21        640: 100%|██████████| 289/289 [02:02<00:00,  2.35it/s]\n",
            "                 Class     Images  Instances      Box(P          R      mAP50  mAP50-95): 100%|██████████| 14/14 [00:09<00:00,  1.54it/s]"
          ]
        },
        {
          "output_type": "stream",
          "name": "stdout",
          "text": [
            "                   all        441        683      0.847      0.775      0.847      0.524\n"
          ]
        },
        {
          "output_type": "stream",
          "name": "stderr",
          "text": [
            "\n"
          ]
        },
        {
          "output_type": "stream",
          "name": "stdout",
          "text": [
            "\n",
            "30 epochs completed in 1.150 hours.\n",
            "Optimizer stripped from /content/drive/MyDrive/AyushVision/yolo8/training/21_08_2024/flowers/runs/train30/weights/last.pt, 6.3MB\n",
            "Optimizer stripped from /content/drive/MyDrive/AyushVision/yolo8/training/21_08_2024/flowers/runs/train30/weights/best.pt, 6.3MB\n",
            "\n",
            "Validating /content/drive/MyDrive/AyushVision/yolo8/training/21_08_2024/flowers/runs/train30/weights/best.pt...\n",
            "Ultralytics YOLOv8.2.79 🚀 Python-3.10.12 torch-2.3.1+cu121 CUDA:0 (Tesla T4, 15102MiB)\n",
            "YOLOv8n summary (fused): 168 layers, 3,007,988 parameters, 0 gradients, 8.1 GFLOPs\n"
          ]
        },
        {
          "output_type": "stream",
          "name": "stderr",
          "text": [
            "                 Class     Images  Instances      Box(P          R      mAP50  mAP50-95): 100%|██████████| 14/14 [00:08<00:00,  1.59it/s]\n"
          ]
        },
        {
          "output_type": "stream",
          "name": "stdout",
          "text": [
            "                   all        441        683      0.847      0.773      0.847      0.524\n",
            "        Acalyphaindica         40        136      0.801      0.413      0.639      0.291\n",
            "              Hibiscus         40         50      0.877       0.88       0.94      0.606\n",
            "             Holybasil         40         43      0.895      0.907      0.962      0.625\n",
            "        Pedalium_murex         41         85      0.827      0.675      0.812      0.511\n",
            "      Red_Pea_Eggplant         39         39      0.939      0.974       0.99      0.744\n",
            "        Ringworm_plant         40         44      0.819      0.864      0.832      0.516\n",
            "          Sleepy_plant         40         41       0.93      0.951      0.975      0.587\n",
            "           Thorn_apple         40         49      0.917      0.959       0.97      0.699\n",
            "          Vitexnegundo         40         52      0.844      0.624      0.795      0.421\n",
            "       adamant_creeper         40         52      0.688      0.596      0.671      0.362\n",
            "   calotropis_gigantea         40         92      0.786      0.663      0.727        0.4\n",
            "Speed: 0.3ms preprocess, 2.6ms inference, 0.0ms loss, 3.7ms postprocess per image\n",
            "Results saved to \u001b[1m/content/drive/MyDrive/AyushVision/yolo8/training/21_08_2024/flowers/runs/train30\u001b[0m\n"
          ]
        }
      ],
      "source": [
        "results = yolo_model.train(data=data,name=name, epochs=epochs, imgsz=imageSize,project=project,optimizer=optimizer,plots=True,dropout=dropout)"
      ]
    },
    {
      "cell_type": "code",
      "source": [
        "args_yaml=f'{project}/{name}/args.yaml'"
      ],
      "metadata": {
        "id": "DvZnNECFhFeT"
      },
      "execution_count": 149,
      "outputs": []
    },
    {
      "cell_type": "code",
      "source": [
        "resultcsv=f'{project}/{name}/results.csv'"
      ],
      "metadata": {
        "id": "SO4n0G5EhJA6"
      },
      "execution_count": 150,
      "outputs": []
    },
    {
      "cell_type": "code",
      "source": [
        "with open(args_yaml, 'r') as file:\n",
        "    yaml_content = yaml.safe_load(file)"
      ],
      "metadata": {
        "id": "8Uw3V5VihL6M"
      },
      "execution_count": 151,
      "outputs": []
    },
    {
      "cell_type": "code",
      "execution_count": 152,
      "metadata": {
        "id": "j0b7pQMdwiee"
      },
      "outputs": [],
      "source": [
        "today_training_colref=today_ref.collection('Train')"
      ]
    },
    {
      "cell_type": "code",
      "source": [
        "today_training_ref=today_training_colref.document('args')"
      ],
      "metadata": {
        "id": "k7fDm31ghVFV"
      },
      "execution_count": 153,
      "outputs": []
    },
    {
      "cell_type": "code",
      "source": [
        "today_training_ref.set(yaml_content)"
      ],
      "metadata": {
        "id": "J_1uaRjBhW-_",
        "colab": {
          "base_uri": "https://localhost:8080/"
        },
        "outputId": "67bb301d-33af-4d19-b665-d27ae5f39d74"
      },
      "execution_count": 154,
      "outputs": [
        {
          "output_type": "execute_result",
          "data": {
            "text/plain": [
              "update_time {\n",
              "  seconds: 1724224920\n",
              "  nanos: 230211000\n",
              "}"
            ]
          },
          "metadata": {},
          "execution_count": 154
        }
      ]
    },
    {
      "cell_type": "code",
      "source": [
        "todayresultref=today_training_colref.document('results')"
      ],
      "metadata": {
        "id": "vtduLfTXhZ52"
      },
      "execution_count": 155,
      "outputs": []
    },
    {
      "cell_type": "code",
      "execution_count": 156,
      "metadata": {
        "id": "g-BcnpaezP3a"
      },
      "outputs": [],
      "source": [
        "trainfiles={}\n",
        "wights={}"
      ]
    },
    {
      "cell_type": "code",
      "execution_count": 157,
      "metadata": {
        "id": "jhuDVlf7xyNL"
      },
      "outputs": [],
      "source": [
        "for file in os.listdir(f\"{project}/{name}\"):\n",
        "  if os.path.isfile(f\"{project}/{name}/{file}\"):\n",
        "    blob = bucket.blob(f\"yolo/flower/train/{epochs}/{file}\")\n",
        "    blob.upload_from_filename(f\"{project}/{name}/{file}\")\n",
        "    blob.make_public()\n",
        "    trainfiles[os.path.splitext(file)[0]]=blob.public_url\n"
      ]
    },
    {
      "cell_type": "code",
      "execution_count": 158,
      "metadata": {
        "id": "qbmOsJHgNmoU"
      },
      "outputs": [],
      "source": [
        "for file in os.listdir(f\"{project}/{name}/weights\"):\n",
        "  if os.path.isfile(f\"{project}/{name}/weights/{file}\"):\n",
        "    blob = bucket.blob(f\"yolo/flower/train/{epochs}/weights/{file}\")\n",
        "    blob.upload_from_filename(f\"{project}/{name}/weights/{file}\")\n",
        "    blob.make_public()\n",
        "    wights[os.path.splitext(file)[0]]=blob.public_url"
      ]
    },
    {
      "cell_type": "code",
      "execution_count": 159,
      "metadata": {
        "id": "rMcQNIy10MUP",
        "colab": {
          "base_uri": "https://localhost:8080/"
        },
        "outputId": "1e349965-1289-4af1-c6dc-c686b9ea0d0e"
      },
      "outputs": [
        {
          "output_type": "execute_result",
          "data": {
            "text/plain": [
              "update_time {\n",
              "  seconds: 1724224954\n",
              "  nanos: 656674000\n",
              "}"
            ]
          },
          "metadata": {},
          "execution_count": 159
        }
      ],
      "source": [
        "today_training_files=today_training_colref.document('files')\n",
        "today_training_files.set(trainfiles)"
      ]
    },
    {
      "cell_type": "code",
      "source": [
        "today_weights_files=today_training_colref.document('weights')\n",
        "today_weights_files.set(wights)"
      ],
      "metadata": {
        "id": "JaS_sPzuhmk7",
        "colab": {
          "base_uri": "https://localhost:8080/"
        },
        "outputId": "d43878b9-13a3-4dbb-e5db-5843adb4e2b8"
      },
      "execution_count": 160,
      "outputs": [
        {
          "output_type": "execute_result",
          "data": {
            "text/plain": [
              "update_time {\n",
              "  seconds: 1724224955\n",
              "  nanos: 240143000\n",
              "}"
            ]
          },
          "metadata": {},
          "execution_count": 160
        }
      ]
    },
    {
      "cell_type": "markdown",
      "metadata": {
        "id": "vebaeyvan7Ho"
      },
      "source": [
        "#### Validation"
      ]
    },
    {
      "cell_type": "code",
      "execution_count": 161,
      "metadata": {
        "id": "-9orCdN0n7Ho"
      },
      "outputs": [],
      "source": [
        "model_train_path=f'{project}/{name}/weights/best.pt'"
      ]
    },
    {
      "cell_type": "code",
      "execution_count": 162,
      "metadata": {
        "id": "eGWISZx7n7Hp"
      },
      "outputs": [],
      "source": [
        "model = YOLO(model_train_path)  # load a custom trained model"
      ]
    },
    {
      "cell_type": "code",
      "execution_count": 163,
      "metadata": {
        "colab": {
          "base_uri": "https://localhost:8080/"
        },
        "id": "AXl1m-taeNDN",
        "outputId": "b0763f90-a1cd-409a-b3bc-ea4ea4cb7237"
      },
      "outputs": [
        {
          "output_type": "stream",
          "name": "stdout",
          "text": [
            "Ultralytics YOLOv8.2.79 🚀 Python-3.10.12 torch-2.3.1+cu121 CUDA:0 (Tesla T4, 15102MiB)\n",
            "YOLOv8n summary (fused): 168 layers, 3,007,988 parameters, 0 gradients, 8.1 GFLOPs\n"
          ]
        },
        {
          "output_type": "stream",
          "name": "stderr",
          "text": [
            "\u001b[34m\u001b[1mval: \u001b[0mScanning /content/drive/MyDrive/AyushVision/yolo8/dataset/ayushvision_flowers/valid/labels.cache... 441 images, 1 backgrounds, 0 corrupt: 100%|██████████| 441/441 [00:00<?, ?it/s]\n",
            "/usr/lib/python3.10/multiprocessing/popen_fork.py:66: RuntimeWarning: os.fork() was called. os.fork() is incompatible with multithreaded code, and JAX is multithreaded, so this will likely lead to a deadlock.\n",
            "  self.pid = os.fork()\n",
            "                 Class     Images  Instances      Box(P          R      mAP50  mAP50-95): 100%|██████████| 28/28 [00:15<00:00,  1.76it/s]\n"
          ]
        },
        {
          "output_type": "stream",
          "name": "stdout",
          "text": [
            "                   all        441        683      0.846      0.773      0.846      0.523\n",
            "        Acalyphaindica         40        136      0.804      0.412      0.638      0.293\n",
            "              Hibiscus         40         50       0.86       0.88       0.94      0.604\n",
            "             Holybasil         40         43      0.893      0.907      0.962      0.626\n",
            "        Pedalium_murex         41         85      0.827      0.677      0.813      0.511\n",
            "      Red_Pea_Eggplant         39         39      0.939      0.974       0.99      0.744\n",
            "        Ringworm_plant         40         44      0.819      0.864       0.83      0.515\n",
            "          Sleepy_plant         40         41      0.931      0.951      0.975      0.584\n",
            "           Thorn_apple         40         49      0.916      0.959       0.97      0.698\n",
            "          Vitexnegundo         40         52      0.844      0.624      0.795      0.421\n",
            "       adamant_creeper         40         52      0.688      0.596      0.669      0.362\n",
            "   calotropis_gigantea         40         92      0.785      0.663      0.727        0.4\n",
            "Speed: 0.7ms preprocess, 5.6ms inference, 0.0ms loss, 5.3ms postprocess per image\n",
            "Saving /content/drive/MyDrive/AyushVision/yolo8/training/21_08_2024/flowers/runs/val30/predictions.json...\n",
            "Results saved to \u001b[1m/content/drive/MyDrive/AyushVision/yolo8/training/21_08_2024/flowers/runs/val30\u001b[0m\n"
          ]
        }
      ],
      "source": [
        "metrics = model.val(save_json=True,plots=True,project=project,name=f'val{epochs}')  # no arguments needed, dataset and settings remembered"
      ]
    },
    {
      "cell_type": "code",
      "execution_count": 164,
      "metadata": {
        "id": "q9FLMqVSzVDo"
      },
      "outputs": [],
      "source": [
        "val_today_col=today_ref.collection('Val')"
      ]
    },
    {
      "cell_type": "code",
      "source": [
        "predication_file=f'{project}/val{epochs}/predictions.json'"
      ],
      "metadata": {
        "id": "27h9s3UHh0tI"
      },
      "execution_count": 165,
      "outputs": []
    },
    {
      "cell_type": "code",
      "source": [
        "with open(predication_file, 'r') as file:\n",
        "    data_dict = json.load(file)"
      ],
      "metadata": {
        "id": "Vl-fCG-dh29I"
      },
      "execution_count": 166,
      "outputs": []
    },
    {
      "cell_type": "code",
      "source": [
        "val_today_ref_files=val_today_col.document('files')"
      ],
      "metadata": {
        "id": "09j8IGJph5x7"
      },
      "execution_count": 167,
      "outputs": []
    },
    {
      "cell_type": "code",
      "execution_count": 168,
      "metadata": {
        "id": "zUlTjrFB0JtF"
      },
      "outputs": [],
      "source": [
        "valfiles={}"
      ]
    },
    {
      "cell_type": "code",
      "execution_count": 169,
      "metadata": {
        "id": "f5kMLdoCTg9l"
      },
      "outputs": [],
      "source": [
        "for file in os.listdir(f\"{project}/val{epochs}\"):\n",
        "  if os.path.isfile(f\"{project}/val{epochs}/{file}\"):\n",
        "    blob = bucket.blob(f\"yolo/flowers/val/{epochs}/{file}\")\n",
        "    blob.upload_from_filename(f\"{project}/val{epochs}/{file}\")\n",
        "    blob.make_public()\n",
        "    valfiles[os.path.splitext(file)[0]]=blob.public_url"
      ]
    },
    {
      "cell_type": "code",
      "execution_count": 170,
      "metadata": {
        "id": "P5xtzL5GUB_H",
        "colab": {
          "base_uri": "https://localhost:8080/"
        },
        "outputId": "f9145b21-f7ba-42f5-8334-0a8a3e054bac"
      },
      "outputs": [
        {
          "output_type": "execute_result",
          "data": {
            "text/plain": [
              "update_time {\n",
              "  seconds: 1724224991\n",
              "  nanos: 31619000\n",
              "}"
            ]
          },
          "metadata": {},
          "execution_count": 170
        }
      ],
      "source": [
        "val_today_ref_files.set(valfiles)"
      ]
    },
    {
      "cell_type": "code",
      "source": [
        "val_today_ref_metrics=val_today_col.document('metricsbox')"
      ],
      "metadata": {
        "id": "E9UV7ub9iECt"
      },
      "execution_count": 171,
      "outputs": []
    },
    {
      "cell_type": "code",
      "source": [
        "val_today_ref_metrics.set({'map50':metrics.box.map50,'map75':metrics.box.map75})"
      ],
      "metadata": {
        "id": "y5oEEll4iDqZ",
        "colab": {
          "base_uri": "https://localhost:8080/"
        },
        "outputId": "4a5838f6-e5ce-4c2d-b85d-a02237e97ea6"
      },
      "execution_count": 172,
      "outputs": [
        {
          "output_type": "execute_result",
          "data": {
            "text/plain": [
              "update_time {\n",
              "  seconds: 1724224991\n",
              "  nanos: 307042000\n",
              "}"
            ]
          },
          "metadata": {},
          "execution_count": 172
        }
      ]
    },
    {
      "cell_type": "code",
      "source": [
        "val_today_ref_metrics.update({\n",
        "    'fitness':metrics.fitness\n",
        "})"
      ],
      "metadata": {
        "id": "6O4fyzcAiHAr",
        "colab": {
          "base_uri": "https://localhost:8080/"
        },
        "outputId": "189d0a73-3a65-45c6-a3ff-6fdacea2a7a7"
      },
      "execution_count": 173,
      "outputs": [
        {
          "output_type": "execute_result",
          "data": {
            "text/plain": [
              "update_time {\n",
              "  seconds: 1724224991\n",
              "  nanos: 566690000\n",
              "}"
            ]
          },
          "metadata": {},
          "execution_count": 173
        }
      ]
    },
    {
      "cell_type": "code",
      "source": [
        "maps=np.array(metrics.maps).tolist()\n",
        "boxmaps=np.array(metrics.box.maps).tolist()\n",
        "p=np.array(metrics.box.p).tolist()"
      ],
      "metadata": {
        "id": "8HLDk9HFiG-p"
      },
      "execution_count": 174,
      "outputs": []
    },
    {
      "cell_type": "code",
      "source": [
        "val_today_ref_metrics.update({\n",
        "    'metricsmaps':maps,\n",
        "    'maps':boxmaps,\n",
        "    'p':p\n",
        "})"
      ],
      "metadata": {
        "id": "u6Syv6TjiOHd",
        "colab": {
          "base_uri": "https://localhost:8080/"
        },
        "outputId": "4f8c09ba-0068-421c-b5b0-3003031434f1"
      },
      "execution_count": 175,
      "outputs": [
        {
          "output_type": "execute_result",
          "data": {
            "text/plain": [
              "update_time {\n",
              "  seconds: 1724224991\n",
              "  nanos: 740660000\n",
              "}"
            ]
          },
          "metadata": {},
          "execution_count": 175
        }
      ]
    },
    {
      "cell_type": "code",
      "execution_count": 176,
      "metadata": {
        "colab": {
          "base_uri": "https://localhost:8080/"
        },
        "id": "P8B6V3_wwohd",
        "outputId": "d1c58522-cd3c-4b33-e521-85a02e585e7c"
      },
      "outputs": [
        {
          "output_type": "execute_result",
          "data": {
            "text/plain": [
              "0.8463071393566636"
            ]
          },
          "metadata": {},
          "execution_count": 176
        }
      ],
      "source": [
        "metrics.box.map50"
      ]
    },
    {
      "cell_type": "code",
      "execution_count": 177,
      "metadata": {
        "colab": {
          "base_uri": "https://localhost:8080/"
        },
        "id": "ZN0NsU2kwsYW",
        "outputId": "3d10ae72-3746-40c9-e2b2-998aa1f82907"
      },
      "outputs": [
        {
          "output_type": "execute_result",
          "data": {
            "text/plain": [
              "0.5589811836356738"
            ]
          },
          "metadata": {},
          "execution_count": 177
        }
      ],
      "source": [
        "metrics.box.map75"
      ]
    },
    {
      "cell_type": "code",
      "execution_count": 178,
      "metadata": {
        "colab": {
          "base_uri": "https://localhost:8080/"
        },
        "id": "xaONZry0wx04",
        "outputId": "d9a3f28f-f39a-4a42-f6a0-da9d2719a521"
      },
      "outputs": [
        {
          "data": {
            "text/plain": [
              "array([    0.29263,     0.60393,      0.6256,     0.51107,     0.74376,     0.51471,     0.58396,     0.69754,     0.42139,     0.52331,      0.3615,     0.40034])"
            ]
          },
          "execution_count": 178,
          "metadata": {},
          "output_type": "execute_result"
        }
      ],
      "source": [
        "metrics.box.maps"
      ]
    },
    {
      "cell_type": "markdown",
      "metadata": {
        "id": "jkbwnnv_n7Hp"
      },
      "source": [
        "#### Predict"
      ]
    },
    {
      "cell_type": "code",
      "execution_count": 179,
      "metadata": {
        "id": "xKZ8DDRumwwW",
        "colab": {
          "base_uri": "https://localhost:8080/"
        },
        "outputId": "45b73d24-3cfd-4597-8b97-332034d63575"
      },
      "outputs": [
        {
          "output_type": "stream",
          "name": "stdout",
          "text": [
            "\n",
            "image 1/219 /content/drive/MyDrive/AyushVision/yolo8/dataset/ayushvision_flowers/test/images/IMG-20240121-WA0012_jpg.rf.90b4658954b2a9b3f1305f3956af7752.jpg: 640x640 1 Holybasil, 7.4ms\n",
            "image 2/219 /content/drive/MyDrive/AyushVision/yolo8/dataset/ayushvision_flowers/test/images/IMG-20240121-WA0169_jpg.rf.582654067138f7912b75dc4648133b1c.jpg: 640x640 1 Holybasil, 7.3ms\n",
            "image 3/219 /content/drive/MyDrive/AyushVision/yolo8/dataset/ayushvision_flowers/test/images/IMG-20240121-WA0231_jpg.rf.ad6ab6e527e0375e058347ce9d72b4db.jpg: 640x640 1 Holybasil, 18.8ms\n",
            "image 4/219 /content/drive/MyDrive/AyushVision/yolo8/dataset/ayushvision_flowers/test/images/IMG-20240121-WA0232_jpg.rf.7307ae7cb6640bf4f420042ff633db08.jpg: 640x640 1 Holybasil, 7.5ms\n",
            "image 5/219 /content/drive/MyDrive/AyushVision/yolo8/dataset/ayushvision_flowers/test/images/IMG-20240121-WA0246_jpg.rf.9e1d4eaab0d82565149c123dae8a477c.jpg: 640x640 1 Holybasil, 7.4ms\n",
            "image 6/219 /content/drive/MyDrive/AyushVision/yolo8/dataset/ayushvision_flowers/test/images/IMG-20240121-WA0287_jpg.rf.68c5d50db99d2ae21183db9eedcc3eeb.jpg: 640x640 1 Holybasil, 7.3ms\n",
            "image 7/219 /content/drive/MyDrive/AyushVision/yolo8/dataset/ayushvision_flowers/test/images/IMG-20240121-WA0292_jpg.rf.90484017f23a25fb3164520c1f59429b.jpg: 640x640 1 Holybasil, 7.3ms\n",
            "image 8/219 /content/drive/MyDrive/AyushVision/yolo8/dataset/ayushvision_flowers/test/images/IMG-20240121-WA0309_jpg.rf.4353df414fe9afe87e1fc33bad103126.jpg: 640x640 1 Holybasil, 7.4ms\n",
            "image 9/219 /content/drive/MyDrive/AyushVision/yolo8/dataset/ayushvision_flowers/test/images/IMG-20240121-WA0316_jpg.rf.de7338344f1b744f1bc0e8b561cdc7d8.jpg: 640x640 1 Holybasil, 7.4ms\n",
            "image 10/219 /content/drive/MyDrive/AyushVision/yolo8/dataset/ayushvision_flowers/test/images/IMG20240117163255_jpg.rf.3409717d1bd34180ac75afb6e47f0a82.jpg: 640x640 1 Holybasil, 7.3ms\n",
            "image 11/219 /content/drive/MyDrive/AyushVision/yolo8/dataset/ayushvision_flowers/test/images/IMG20240117163704_jpg.rf.afe103138d229e49dbbc04b93a4e8858.jpg: 640x640 1 Holybasil, 7.4ms\n",
            "image 12/219 /content/drive/MyDrive/AyushVision/yolo8/dataset/ayushvision_flowers/test/images/IMG20240117163801_jpg.rf.0741419dd2c422cea5cbc60b731318e3.jpg: 640x640 1 Holybasil, 7.4ms\n",
            "image 13/219 /content/drive/MyDrive/AyushVision/yolo8/dataset/ayushvision_flowers/test/images/IMG20240117163938_jpg.rf.24637dfabb9e4a25b70a9ae3651240af.jpg: 640x640 3 Holybasils, 7.4ms\n",
            "image 14/219 /content/drive/MyDrive/AyushVision/yolo8/dataset/ayushvision_flowers/test/images/IMG20240117164216_jpg.rf.051212b1a72fc1573e46f57f012a6a61.jpg: 640x640 1 Holybasil, 7.6ms\n",
            "image 15/219 /content/drive/MyDrive/AyushVision/yolo8/dataset/ayushvision_flowers/test/images/IMG20240117164403_jpg.rf.43f2f27aeed6e1c4e6e0c633bb985f40.jpg: 640x640 2 Holybasils, 7.5ms\n",
            "image 16/219 /content/drive/MyDrive/AyushVision/yolo8/dataset/ayushvision_flowers/test/images/IMG20240117164628_jpg.rf.cf3ac68d5525a508c994c92e26690fba.jpg: 640x640 1 Holybasil, 7.4ms\n",
            "image 17/219 /content/drive/MyDrive/AyushVision/yolo8/dataset/ayushvision_flowers/test/images/IMG20240117164655_jpg.rf.afee45edde8b9877d70fb564cb93e021.jpg: 640x640 1 Holybasil, 9.0ms\n",
            "image 18/219 /content/drive/MyDrive/AyushVision/yolo8/dataset/ayushvision_flowers/test/images/IMG20240117165039_jpg.rf.4e4f66350c5edfc0e2b50a22ec5daec1.jpg: 640x640 1 Holybasil, 7.5ms\n",
            "image 19/219 /content/drive/MyDrive/AyushVision/yolo8/dataset/ayushvision_flowers/test/images/IMG20240117165054_jpg.rf.9911b35618de974be6ee26e7eb74aedb.jpg: 640x640 1 Holybasil, 7.4ms\n",
            "image 20/219 /content/drive/MyDrive/AyushVision/yolo8/dataset/ayushvision_flowers/test/images/IMG20240117165111_jpg.rf.185fedc785bb322b1e40c934bf6ebf68.jpg: 640x640 1 Holybasil, 7.4ms\n",
            "image 21/219 /content/drive/MyDrive/AyushVision/yolo8/dataset/ayushvision_flowers/test/images/IMG20240209120143_jpg.rf.0f6d7a4ca2b66a28c7a58d0316df6a01.jpg: 640x640 1 Red_Pea_Eggplant, 7.3ms\n",
            "image 22/219 /content/drive/MyDrive/AyushVision/yolo8/dataset/ayushvision_flowers/test/images/IMG20240209120501_jpg.rf.afe46625713322357273014c5158b2ca.jpg: 640x640 1 Red_Pea_Eggplant, 7.4ms\n",
            "image 23/219 /content/drive/MyDrive/AyushVision/yolo8/dataset/ayushvision_flowers/test/images/IMG20240209120633_jpg.rf.bbceab7a1b00bacdea91e8a9a6c6a8c2.jpg: 640x640 1 Red_Pea_Eggplant, 7.4ms\n",
            "image 24/219 /content/drive/MyDrive/AyushVision/yolo8/dataset/ayushvision_flowers/test/images/IMG20240209121006_jpg.rf.8489ae044d4a984fe9febacdca29f16d.jpg: 640x640 1 Red_Pea_Eggplant, 7.4ms\n",
            "image 25/219 /content/drive/MyDrive/AyushVision/yolo8/dataset/ayushvision_flowers/test/images/IMG20240209124614_jpg.rf.f6a205b7b7ff7082dc1cdf69a1adb710.jpg: 640x640 1 Red_Pea_Eggplant, 7.3ms\n",
            "image 26/219 /content/drive/MyDrive/AyushVision/yolo8/dataset/ayushvision_flowers/test/images/IMG20240209124711_jpg.rf.1c72f85f9c48a3a81a0a27424cf4adb5.jpg: 640x640 1 Red_Pea_Eggplant, 7.4ms\n",
            "image 27/219 /content/drive/MyDrive/AyushVision/yolo8/dataset/ayushvision_flowers/test/images/IMG20240209124818_jpg.rf.d6879c4e7f132d249ba3f055a1ed1eca.jpg: 640x640 1 Red_Pea_Eggplant, 7.3ms\n",
            "image 28/219 /content/drive/MyDrive/AyushVision/yolo8/dataset/ayushvision_flowers/test/images/IMG20240209125120_jpg.rf.5517be28065b47c6c1d3031beb6b999b.jpg: 640x640 1 Red_Pea_Eggplant, 7.5ms\n",
            "image 29/219 /content/drive/MyDrive/AyushVision/yolo8/dataset/ayushvision_flowers/test/images/IMG20240209125403_jpg.rf.88af5187dafe717e85cd87e17edcec92.jpg: 640x640 1 Red_Pea_Eggplant, 7.3ms\n",
            "image 30/219 /content/drive/MyDrive/AyushVision/yolo8/dataset/ayushvision_flowers/test/images/IMG20240209125506_jpg.rf.0aeb5210114843e8cfb86cbcff857241.jpg: 640x640 1 Red_Pea_Eggplant, 7.4ms\n",
            "image 31/219 /content/drive/MyDrive/AyushVision/yolo8/dataset/ayushvision_flowers/test/images/IMG20240209125514_jpg.rf.c0411d833f836456be932ba24b37783b.jpg: 640x640 1 Red_Pea_Eggplant, 7.3ms\n",
            "image 32/219 /content/drive/MyDrive/AyushVision/yolo8/dataset/ayushvision_flowers/test/images/IMG20240209125524_jpg.rf.a3dc03c6b3a2b507f5d78c6f6d5e5d7d.jpg: 640x640 1 Red_Pea_Eggplant, 11.5ms\n",
            "image 33/219 /content/drive/MyDrive/AyushVision/yolo8/dataset/ayushvision_flowers/test/images/IMG20240209125543_jpg.rf.8fcea19329564e6fec82ccfe08f076d5.jpg: 640x640 1 Red_Pea_Eggplant, 10.0ms\n",
            "image 34/219 /content/drive/MyDrive/AyushVision/yolo8/dataset/ayushvision_flowers/test/images/IMG20240209125807_jpg.rf.150d26785e0b12d4f00956f0a5f40c99.jpg: 640x640 1 Red_Pea_Eggplant, 10.5ms\n",
            "image 35/219 /content/drive/MyDrive/AyushVision/yolo8/dataset/ayushvision_flowers/test/images/IMG20240209125812_jpg.rf.1c3ef7851030b27c0eaaad8db7aecf58.jpg: 640x640 1 Red_Pea_Eggplant, 9.9ms\n",
            "image 36/219 /content/drive/MyDrive/AyushVision/yolo8/dataset/ayushvision_flowers/test/images/IMG20240209125859_jpg.rf.9d2bdd4017a686361a258d77354ca17c.jpg: 640x640 1 Red_Pea_Eggplant, 10.2ms\n",
            "image 37/219 /content/drive/MyDrive/AyushVision/yolo8/dataset/ayushvision_flowers/test/images/IMG20240209125920_jpg.rf.bfb2a83cc4106a10ef03e9ef804ba1b2.jpg: 640x640 1 Red_Pea_Eggplant, 9.0ms\n",
            "image 38/219 /content/drive/MyDrive/AyushVision/yolo8/dataset/ayushvision_flowers/test/images/IMG20240209130239_jpg.rf.8b87a7eda914e3289e0cc19215badb2e.jpg: 640x640 1 Red_Pea_Eggplant, 9.9ms\n",
            "image 39/219 /content/drive/MyDrive/AyushVision/yolo8/dataset/ayushvision_flowers/test/images/IMG20240209130306_jpg.rf.4c85a9a6e4d938350f22f02cb0bf7b11.jpg: 640x640 1 Red_Pea_Eggplant, 10.0ms\n",
            "image 40/219 /content/drive/MyDrive/AyushVision/yolo8/dataset/ayushvision_flowers/test/images/IMG20240209130506_jpg.rf.e8d9df9cb475c220575476a507f8034f.jpg: 640x640 1 Red_Pea_Eggplant, 9.6ms\n",
            "image 41/219 /content/drive/MyDrive/AyushVision/yolo8/dataset/ayushvision_flowers/test/images/IMG20240426091521_jpg.rf.4995262e3a09e8776fb4f590449fdf27.jpg: 640x640 1 Pedalium_murex, 9.9ms\n",
            "image 42/219 /content/drive/MyDrive/AyushVision/yolo8/dataset/ayushvision_flowers/test/images/IMG20240426091745_jpg.rf.22b80a9d766438ebcb6781353a12f008.jpg: 640x640 4 Pedalium_murexs, 7.4ms\n",
            "image 43/219 /content/drive/MyDrive/AyushVision/yolo8/dataset/ayushvision_flowers/test/images/IMG20240426093544_jpg.rf.5be2e7ee6769a9e67041acd275e5fda8.jpg: 640x640 7 Pedalium_murexs, 7.3ms\n",
            "image 44/219 /content/drive/MyDrive/AyushVision/yolo8/dataset/ayushvision_flowers/test/images/IMG20240426094036_jpg.rf.65851970d97cb297695efcf1faaa5ad5.jpg: 640x640 1 Pedalium_murex, 7.3ms\n",
            "image 45/219 /content/drive/MyDrive/AyushVision/yolo8/dataset/ayushvision_flowers/test/images/IMG20240426094038_jpg.rf.a7c5500bfa10e0643da3bb7c825d2d21.jpg: 640x640 1 Pedalium_murex, 7.3ms\n",
            "image 46/219 /content/drive/MyDrive/AyushVision/yolo8/dataset/ayushvision_flowers/test/images/IMG20240426094145_jpg.rf.ac46cc1b5b2b2eb5f76db61d08481064.jpg: 640x640 6 Pedalium_murexs, 7.4ms\n",
            "image 47/219 /content/drive/MyDrive/AyushVision/yolo8/dataset/ayushvision_flowers/test/images/IMG20240426094242_jpg.rf.0515b95f1d0a4d747be52845930810ed.jpg: 640x640 5 Pedalium_murexs, 8.2ms\n",
            "image 48/219 /content/drive/MyDrive/AyushVision/yolo8/dataset/ayushvision_flowers/test/images/IMG20240426094256_jpg.rf.659367305e2c016d5ac4dea4d1d34dff.jpg: 640x640 3 Pedalium_murexs, 7.4ms\n",
            "image 49/219 /content/drive/MyDrive/AyushVision/yolo8/dataset/ayushvision_flowers/test/images/IMG20240426095618_jpg.rf.d52ba1c6fd9a1e0a8c433f38863a7272.jpg: 640x640 3 Pedalium_murexs, 7.4ms\n",
            "image 50/219 /content/drive/MyDrive/AyushVision/yolo8/dataset/ayushvision_flowers/test/images/IMG20240426203134_jpg.rf.21fa14d05850ea63093fbc77ef0f4252.jpg: 640x640 5 Acalyphaindicas, 7.4ms\n",
            "image 51/219 /content/drive/MyDrive/AyushVision/yolo8/dataset/ayushvision_flowers/test/images/IMG20240426203348_jpg.rf.2ae77d72f5289576d4752a68e897eb08.jpg: 640x640 3 Acalyphaindicas, 7.4ms\n",
            "image 52/219 /content/drive/MyDrive/AyushVision/yolo8/dataset/ayushvision_flowers/test/images/IMG20240426203447_jpg.rf.94fa409b0de38b1f977af8c34845b87d.jpg: 640x640 4 Acalyphaindicas, 7.3ms\n",
            "image 53/219 /content/drive/MyDrive/AyushVision/yolo8/dataset/ayushvision_flowers/test/images/IMG20240426203737_jpg.rf.461228f94e850ea3793a8fb654133bf3.jpg: 640x640 7 Acalyphaindicas, 7.4ms\n",
            "image 54/219 /content/drive/MyDrive/AyushVision/yolo8/dataset/ayushvision_flowers/test/images/IMG20240426203739_jpg.rf.c65a0f295b05323eb8d3f1c6ab3400d3.jpg: 640x640 6 Acalyphaindicas, 7.3ms\n",
            "image 55/219 /content/drive/MyDrive/AyushVision/yolo8/dataset/ayushvision_flowers/test/images/IMG20240426203814_jpg.rf.8627a79752f03ca5e486a5782393c176.jpg: 640x640 4 Acalyphaindicas, 7.4ms\n",
            "image 56/219 /content/drive/MyDrive/AyushVision/yolo8/dataset/ayushvision_flowers/test/images/IMG20240427194808_jpg.rf.911326c84546161bce54acc1daa2a7aa.jpg: 640x640 2 Acalyphaindicas, 7.4ms\n",
            "image 57/219 /content/drive/MyDrive/AyushVision/yolo8/dataset/ayushvision_flowers/test/images/IMG20240427194839_jpg.rf.e2db08ba1422a62e1f7efb45922d1dd2.jpg: 640x640 1 Acalyphaindica, 7.3ms\n",
            "image 58/219 /content/drive/MyDrive/AyushVision/yolo8/dataset/ayushvision_flowers/test/images/IMG20240427194843_jpg.rf.eec26134516be99248ac7106b14244e4.jpg: 640x640 4 Acalyphaindicas, 7.3ms\n",
            "image 59/219 /content/drive/MyDrive/AyushVision/yolo8/dataset/ayushvision_flowers/test/images/IMG20240427195112_jpg.rf.9efb9c60c31580680766a0a910ca1a7e.jpg: 640x640 3 Acalyphaindicas, 7.4ms\n",
            "image 60/219 /content/drive/MyDrive/AyushVision/yolo8/dataset/ayushvision_flowers/test/images/IMG20240427195117_jpg.rf.b3d78c015b7177e469e27b3acdd04be8.jpg: 640x640 2 Acalyphaindicas, 7.4ms\n",
            "image 61/219 /content/drive/MyDrive/AyushVision/yolo8/dataset/ayushvision_flowers/test/images/IMG20240427195648_jpg.rf.6df45e3181f2ccea5cc8558d735d27da.jpg: 640x640 2 Acalyphaindicas, 7.3ms\n",
            "image 62/219 /content/drive/MyDrive/AyushVision/yolo8/dataset/ayushvision_flowers/test/images/IMG20240427195813_jpg.rf.624e6c1d03c512072bbe2fa12033e9fc.jpg: 640x640 3 Acalyphaindicas, 7.3ms\n",
            "image 63/219 /content/drive/MyDrive/AyushVision/yolo8/dataset/ayushvision_flowers/test/images/IMG20240501101511_jpg.rf.63c757e0bc7581a2e8b48e35523d768a.jpg: 640x640 3 Acalyphaindicas, 7.4ms\n",
            "image 64/219 /content/drive/MyDrive/AyushVision/yolo8/dataset/ayushvision_flowers/test/images/IMG20240501101536_jpg.rf.dd0d6e1e7b7588d455fb33e86770f886.jpg: 640x640 2 Acalyphaindicas, 8.7ms\n",
            "image 65/219 /content/drive/MyDrive/AyushVision/yolo8/dataset/ayushvision_flowers/test/images/IMG20240501101749_jpg.rf.f35e506569be15cc4aaf07ae9b0cfe63.jpg: 640x640 1 Acalyphaindica, 7.4ms\n",
            "image 66/219 /content/drive/MyDrive/AyushVision/yolo8/dataset/ayushvision_flowers/test/images/IMG20240501101816_jpg.rf.4060f3f814015fd49a89259f5718a651.jpg: 640x640 1 Acalyphaindica, 7.3ms\n",
            "image 67/219 /content/drive/MyDrive/AyushVision/yolo8/dataset/ayushvision_flowers/test/images/IMG20240501101857_jpg.rf.f23526765dc78483c518c2031b62fe42.jpg: 640x640 3 Acalyphaindicas, 7.4ms\n",
            "image 68/219 /content/drive/MyDrive/AyushVision/yolo8/dataset/ayushvision_flowers/test/images/IMG20240525064309_jpg.rf.f4711cfc796a373f334ec77991d30d8e.jpg: 640x640 1 Hibiscus, 8.5ms\n",
            "image 69/219 /content/drive/MyDrive/AyushVision/yolo8/dataset/ayushvision_flowers/test/images/IMG20240525064321_jpg.rf.573c0293331f77ab83d4976ac2253669.jpg: 640x640 1 Hibiscus, 8.9ms\n",
            "image 70/219 /content/drive/MyDrive/AyushVision/yolo8/dataset/ayushvision_flowers/test/images/IMG20240525064406_jpg.rf.06ee1029c8e1a59eac5adf08756e8556.jpg: 640x640 1 Hibiscus, 9.7ms\n",
            "image 71/219 /content/drive/MyDrive/AyushVision/yolo8/dataset/ayushvision_flowers/test/images/IMG20240525064635_jpg.rf.0d3dd7f41049e37690771289ea4846e6.jpg: 640x640 1 Hibiscus, 9.9ms\n",
            "image 72/219 /content/drive/MyDrive/AyushVision/yolo8/dataset/ayushvision_flowers/test/images/IMG20240525064733_jpg.rf.0cf69527cfc49860c3fb22aec6cdcd49.jpg: 640x640 1 Hibiscus, 13.1ms\n",
            "image 73/219 /content/drive/MyDrive/AyushVision/yolo8/dataset/ayushvision_flowers/test/images/IMG20240525064740_jpg.rf.e0347db4503704b8373c3af36f4b3b92.jpg: 640x640 1 Hibiscus, 10.1ms\n",
            "image 74/219 /content/drive/MyDrive/AyushVision/yolo8/dataset/ayushvision_flowers/test/images/IMG20240525064925_jpg.rf.c2b5e855276ab13224dec7faa7708042.jpg: 640x640 1 Hibiscus, 10.8ms\n",
            "image 75/219 /content/drive/MyDrive/AyushVision/yolo8/dataset/ayushvision_flowers/test/images/IMG20240525064957_jpg.rf.4e78a8b0af6510f7ae16f560bdddec36.jpg: 640x640 1 Hibiscus, 9.2ms\n",
            "image 76/219 /content/drive/MyDrive/AyushVision/yolo8/dataset/ayushvision_flowers/test/images/IMG20240525065043_jpg.rf.ac00891c9083732e68f0d2c172c98f4a.jpg: 640x640 1 Hibiscus, 9.7ms\n",
            "image 77/219 /content/drive/MyDrive/AyushVision/yolo8/dataset/ayushvision_flowers/test/images/IMG20240525065223_jpg.rf.cfec76d93c7a3def7c8f17897056c2b1.jpg: 640x640 2 Hibiscuss, 9.7ms\n",
            "image 78/219 /content/drive/MyDrive/AyushVision/yolo8/dataset/ayushvision_flowers/test/images/IMG20240525065246_jpg.rf.027cfd18dcda0088ad862eb38050d368.jpg: 640x640 1 Hibiscus, 12.8ms\n",
            "image 79/219 /content/drive/MyDrive/AyushVision/yolo8/dataset/ayushvision_flowers/test/images/IMG20240525065349_jpg.rf.ecfdba7ddb9f4d1201eb72f10dd42be4.jpg: 640x640 1 Hibiscus, 9.6ms\n",
            "image 80/219 /content/drive/MyDrive/AyushVision/yolo8/dataset/ayushvision_flowers/test/images/IMG20240525065354_jpg.rf.8281ea03cc0401922a3acf3a9ff4e1fb.jpg: 640x640 1 Hibiscus, 7.4ms\n",
            "image 81/219 /content/drive/MyDrive/AyushVision/yolo8/dataset/ayushvision_flowers/test/images/IMG20240525065611_jpg.rf.09f0989da3cc6e0408592b2dad33a717.jpg: 640x640 2 Hibiscuss, 7.4ms\n",
            "image 82/219 /content/drive/MyDrive/AyushVision/yolo8/dataset/ayushvision_flowers/test/images/IMG20240525065626_jpg.rf.0d4c2e86d8f0509d6275237a1ade0f45.jpg: 640x640 1 Hibiscus, 8.8ms\n",
            "image 83/219 /content/drive/MyDrive/AyushVision/yolo8/dataset/ayushvision_flowers/test/images/IMG20240525070000_jpg.rf.69c5c68b873a3304837769872b13bc0c.jpg: 640x640 1 Hibiscus, 7.5ms\n",
            "image 84/219 /content/drive/MyDrive/AyushVision/yolo8/dataset/ayushvision_flowers/test/images/IMG20240525070010_jpg.rf.a052189d7feefb0848963dee1612db5b.jpg: 640x640 1 Hibiscus, 7.3ms\n",
            "image 85/219 /content/drive/MyDrive/AyushVision/yolo8/dataset/ayushvision_flowers/test/images/IMG20240525070253_jpg.rf.e9ca798aa2828dd9f4f0eb1a2ff55883.jpg: 640x640 1 Hibiscus, 8.7ms\n",
            "image 86/219 /content/drive/MyDrive/AyushVision/yolo8/dataset/ayushvision_flowers/test/images/IMG20240525070416_jpg.rf.f64983db57d816c2dd240ef7201577d0.jpg: 640x640 1 Hibiscus, 7.5ms\n",
            "image 87/219 /content/drive/MyDrive/AyushVision/yolo8/dataset/ayushvision_flowers/test/images/IMG20240525070518_jpg.rf.f62f4ccd474eafa2c453511614986468.jpg: 640x640 1 Hibiscus, 7.3ms\n",
            "image 88/219 /content/drive/MyDrive/AyushVision/yolo8/dataset/ayushvision_flowers/test/images/IMG20240527183845_jpg.rf.d1603073d09a18b66ef4287adeb4f15e.jpg: 640x640 4 Acalyphaindicas, 7.4ms\n",
            "image 89/219 /content/drive/MyDrive/AyushVision/yolo8/dataset/ayushvision_flowers/test/images/IMG20240527191145_jpg.rf.1ab3ae9d9510d9bb729afb76fbec0e4c.jpg: 640x640 7 Acalyphaindicas, 7.4ms\n",
            "image 90/219 /content/drive/MyDrive/AyushVision/yolo8/dataset/ayushvision_flowers/test/images/IMG20240606082226_jpg.rf.2bb258a27e1a4080db0a2e362f5f5686.jpg: 640x640 1 Pedalium_murex, 7.4ms\n",
            "image 91/219 /content/drive/MyDrive/AyushVision/yolo8/dataset/ayushvision_flowers/test/images/IMG20240606082242_jpg.rf.4ed4d7cae1e5890b8a8a291a796d6255.jpg: 640x640 1 Pedalium_murex, 7.3ms\n",
            "image 92/219 /content/drive/MyDrive/AyushVision/yolo8/dataset/ayushvision_flowers/test/images/IMG20240606082333_jpg.rf.ba37da93cef6b7436d5007ed6c55880d.jpg: 640x640 1 Pedalium_murex, 7.3ms\n",
            "image 93/219 /content/drive/MyDrive/AyushVision/yolo8/dataset/ayushvision_flowers/test/images/IMG20240606082340_jpg.rf.c7ef582fa766310a4b8f4a8890820904.jpg: 640x640 1 Pedalium_murex, 8.0ms\n",
            "image 94/219 /content/drive/MyDrive/AyushVision/yolo8/dataset/ayushvision_flowers/test/images/IMG20240606082408_jpg.rf.0984200a40c6cd61bb4cbb7ef2070f6b.jpg: 640x640 1 Pedalium_murex, 7.4ms\n",
            "image 95/219 /content/drive/MyDrive/AyushVision/yolo8/dataset/ayushvision_flowers/test/images/IMG20240606082414_jpg.rf.cbd919f912049c049cd0ae1bd146cfa6.jpg: 640x640 2 Pedalium_murexs, 7.3ms\n",
            "image 96/219 /content/drive/MyDrive/AyushVision/yolo8/dataset/ayushvision_flowers/test/images/IMG20240606082627_jpg.rf.c2c02895600a84b1a626bf1e7a7b68f3.jpg: 640x640 1 Pedalium_murex, 7.3ms\n",
            "image 97/219 /content/drive/MyDrive/AyushVision/yolo8/dataset/ayushvision_flowers/test/images/IMG20240606082653_jpg.rf.d31acd08eca6da34a17be0e0a03fc9db.jpg: 640x640 1 Pedalium_murex, 7.4ms\n",
            "image 98/219 /content/drive/MyDrive/AyushVision/yolo8/dataset/ayushvision_flowers/test/images/IMG20240606082657_jpg.rf.626ee06f0b27e650db38332a46aaee16.jpg: 640x640 1 Pedalium_murex, 7.3ms\n",
            "image 99/219 /content/drive/MyDrive/AyushVision/yolo8/dataset/ayushvision_flowers/test/images/IMG20240606082706_jpg.rf.58cc476ab98756cf2198c4d6e622d888.jpg: 640x640 1 Pedalium_murex, 8.7ms\n",
            "image 100/219 /content/drive/MyDrive/AyushVision/yolo8/dataset/ayushvision_flowers/test/images/IMG20240610090441_jpg.rf.505e0cd36b630bea189d45df562a5097.jpg: 640x640 1 Sleepy_plant, 7.4ms\n",
            "image 101/219 /content/drive/MyDrive/AyushVision/yolo8/dataset/ayushvision_flowers/test/images/IMG20240610090455_jpg.rf.bda0294fa3db95863bcd7ffcc1d6a824.jpg: 640x640 1 Sleepy_plant, 7.7ms\n",
            "image 102/219 /content/drive/MyDrive/AyushVision/yolo8/dataset/ayushvision_flowers/test/images/IMG20240610090647_jpg.rf.607a6c8e78bccf080a6752158df57a86.jpg: 640x640 1 Sleepy_plant, 7.4ms\n",
            "image 103/219 /content/drive/MyDrive/AyushVision/yolo8/dataset/ayushvision_flowers/test/images/IMG20240610090718_jpg.rf.e87dba9522ff9d9e342bcbc9c6fdc465.jpg: 640x640 1 Sleepy_plant, 8.8ms\n",
            "image 104/219 /content/drive/MyDrive/AyushVision/yolo8/dataset/ayushvision_flowers/test/images/IMG20240610090749_jpg.rf.fbaab864e968ba0a6e55d2fc07c90c2c.jpg: 640x640 1 Sleepy_plant, 7.4ms\n",
            "image 105/219 /content/drive/MyDrive/AyushVision/yolo8/dataset/ayushvision_flowers/test/images/IMG20240610091000_jpg.rf.b6b63955afc50cb52988c60b2d6c70c6.jpg: 640x640 1 Sleepy_plant, 7.3ms\n",
            "image 106/219 /content/drive/MyDrive/AyushVision/yolo8/dataset/ayushvision_flowers/test/images/IMG20240610091012_jpg.rf.5f81e1661734531a4f6d316d14b1610f.jpg: 640x640 1 Sleepy_plant, 10.0ms\n",
            "image 107/219 /content/drive/MyDrive/AyushVision/yolo8/dataset/ayushvision_flowers/test/images/IMG20240610091119_jpg.rf.118328d8a340415515e4f9fe6a44bbf8.jpg: 640x640 1 Sleepy_plant, 9.9ms\n",
            "image 108/219 /content/drive/MyDrive/AyushVision/yolo8/dataset/ayushvision_flowers/test/images/IMG20240610091122_jpg.rf.75c1fd23002691fdee450d8394c7e26e.jpg: 640x640 1 Sleepy_plant, 9.1ms\n",
            "image 109/219 /content/drive/MyDrive/AyushVision/yolo8/dataset/ayushvision_flowers/test/images/IMG20240610091435_jpg.rf.2c1483ebec8255511f51b4e4a7af1ebb.jpg: 640x640 1 Sleepy_plant, 10.2ms\n",
            "image 110/219 /content/drive/MyDrive/AyushVision/yolo8/dataset/ayushvision_flowers/test/images/IMG20240610091522_jpg.rf.cac5de568e644e9d10275bbff72a0436.jpg: 640x640 1 Sleepy_plant, 20.3ms\n",
            "image 111/219 /content/drive/MyDrive/AyushVision/yolo8/dataset/ayushvision_flowers/test/images/IMG20240610092500_jpg.rf.3b24ffdc28887dc862be865a9944ed70.jpg: 640x640 1 Sleepy_plant, 9.1ms\n",
            "image 112/219 /content/drive/MyDrive/AyushVision/yolo8/dataset/ayushvision_flowers/test/images/IMG20240610092718_jpg.rf.42e58d65e53f8ec4777ba0c9d0de99c4.jpg: 640x640 1 Sleepy_plant, 9.2ms\n",
            "image 113/219 /content/drive/MyDrive/AyushVision/yolo8/dataset/ayushvision_flowers/test/images/IMG20240610092736_jpg.rf.0cb93887b5d780004005c7a885a6a2c1.jpg: 640x640 1 Sleepy_plant, 9.1ms\n",
            "image 114/219 /content/drive/MyDrive/AyushVision/yolo8/dataset/ayushvision_flowers/test/images/IMG20240610092928_jpg.rf.da96951cb0166b39212f1ce736e63598.jpg: 640x640 1 Sleepy_plant, 8.0ms\n",
            "image 115/219 /content/drive/MyDrive/AyushVision/yolo8/dataset/ayushvision_flowers/test/images/IMG20240610093048_jpg.rf.5b660f41e22743261871a5fc8ce384dc.jpg: 640x640 1 Sleepy_plant, 7.3ms\n",
            "image 116/219 /content/drive/MyDrive/AyushVision/yolo8/dataset/ayushvision_flowers/test/images/IMG20240610093051_jpg.rf.6fdd670b934cc9fb41686ade308fc669.jpg: 640x640 1 Sleepy_plant, 7.4ms\n",
            "image 117/219 /content/drive/MyDrive/AyushVision/yolo8/dataset/ayushvision_flowers/test/images/IMG20240610093116_jpg.rf.5d93a06c68a2490224633e77f3d4578f.jpg: 640x640 1 Sleepy_plant, 7.4ms\n",
            "image 118/219 /content/drive/MyDrive/AyushVision/yolo8/dataset/ayushvision_flowers/test/images/IMG20240610093215_jpg.rf.bbcf199b17129f2bc9999af640b10811.jpg: 640x640 1 Sleepy_plant, 7.4ms\n",
            "image 119/219 /content/drive/MyDrive/AyushVision/yolo8/dataset/ayushvision_flowers/test/images/IMG20240610093224_jpg.rf.f3da320c76f0c2152ad9eef19dcbeb0d.jpg: 640x640 1 Sleepy_plant, 7.3ms\n",
            "image 120/219 /content/drive/MyDrive/AyushVision/yolo8/dataset/ayushvision_flowers/test/images/IMG20240615180509_jpg.rf.b7c1f7afa4ff0a13832edd6d32715e66.jpg: 640x640 2 Vitexnegundos, 7.4ms\n",
            "image 121/219 /content/drive/MyDrive/AyushVision/yolo8/dataset/ayushvision_flowers/test/images/IMG20240615180715_jpg.rf.c918fe5404898dac27851f37b441e0de.jpg: 640x640 1 Vitexnegundo, 7.3ms\n",
            "image 122/219 /content/drive/MyDrive/AyushVision/yolo8/dataset/ayushvision_flowers/test/images/IMG20240615180731_jpg.rf.1fbcf9d0853104b7e558c6e38025477e.jpg: 640x640 1 Vitexnegundo, 7.3ms\n",
            "image 123/219 /content/drive/MyDrive/AyushVision/yolo8/dataset/ayushvision_flowers/test/images/IMG20240615180758_jpg.rf.e008764235e9d9062ee26394ca6a264c.jpg: 640x640 (no detections), 7.3ms\n",
            "image 124/219 /content/drive/MyDrive/AyushVision/yolo8/dataset/ayushvision_flowers/test/images/IMG20240615180826_jpg.rf.fead807e3f4922c6adff02d8cdbc6e0b.jpg: 640x640 1 Vitexnegundo, 7.3ms\n",
            "image 125/219 /content/drive/MyDrive/AyushVision/yolo8/dataset/ayushvision_flowers/test/images/IMG20240615180851_jpg.rf.0bf0d0dcea6dde0fac115df3efdd384c.jpg: 640x640 2 Vitexnegundos, 7.3ms\n",
            "image 126/219 /content/drive/MyDrive/AyushVision/yolo8/dataset/ayushvision_flowers/test/images/IMG20240615180932_jpg.rf.fb71ce48209513c060551405cd3ee80d.jpg: 640x640 2 Vitexnegundos, 7.3ms\n",
            "image 127/219 /content/drive/MyDrive/AyushVision/yolo8/dataset/ayushvision_flowers/test/images/IMG20240615181030_jpg.rf.1bb2bd54ca1b69529c2ebc62b24d91fd.jpg: 640x640 1 Vitexnegundo, 7.3ms\n",
            "image 128/219 /content/drive/MyDrive/AyushVision/yolo8/dataset/ayushvision_flowers/test/images/IMG20240615181126_jpg.rf.daf809d76753b0a562dcc01158d74a48.jpg: 640x640 1 Vitexnegundo, 7.3ms\n",
            "image 129/219 /content/drive/MyDrive/AyushVision/yolo8/dataset/ayushvision_flowers/test/images/IMG20240615181421_jpg.rf.be3f0b134b45c16b52a7695418a00547.jpg: 640x640 2 Vitexnegundos, 7.4ms\n",
            "image 130/219 /content/drive/MyDrive/AyushVision/yolo8/dataset/ayushvision_flowers/test/images/IMG20240615181425_jpg.rf.9e536dc5c677c6f2d49096a74e60fdea.jpg: 640x640 1 Vitexnegundo, 8.1ms\n",
            "image 131/219 /content/drive/MyDrive/AyushVision/yolo8/dataset/ayushvision_flowers/test/images/IMG20240615181502_jpg.rf.d62abdf4da8b703ee88649de717070ce.jpg: 640x640 2 Vitexnegundos, 7.3ms\n",
            "image 132/219 /content/drive/MyDrive/AyushVision/yolo8/dataset/ayushvision_flowers/test/images/IMG20240615181836_jpg.rf.28ee67457b54c950aec8acd25918b059.jpg: 640x640 1 Vitexnegundo, 7.3ms\n",
            "image 133/219 /content/drive/MyDrive/AyushVision/yolo8/dataset/ayushvision_flowers/test/images/IMG20240615181851_jpg.rf.1de57e668e7cac208d6c2f3e44e5c3b4.jpg: 640x640 1 Vitexnegundo, 7.3ms\n",
            "image 134/219 /content/drive/MyDrive/AyushVision/yolo8/dataset/ayushvision_flowers/test/images/IMG20240615182157_jpg.rf.52b0aa8291cb6ad06be82006a699ea31.jpg: 640x640 1 Vitexnegundo, 7.3ms\n",
            "image 135/219 /content/drive/MyDrive/AyushVision/yolo8/dataset/ayushvision_flowers/test/images/IMG20240615182232_jpg.rf.381637d8568db2ce939b2781d6e98f6f.jpg: 640x640 2 Vitexnegundos, 9.8ms\n",
            "image 136/219 /content/drive/MyDrive/AyushVision/yolo8/dataset/ayushvision_flowers/test/images/IMG20240615182234_jpg.rf.b52f3a3459b5b0b30645740ede0f73f4.jpg: 640x640 1 Vitexnegundo, 7.3ms\n",
            "image 137/219 /content/drive/MyDrive/AyushVision/yolo8/dataset/ayushvision_flowers/test/images/IMG20240615182239_jpg.rf.3639de794fdfe69a331c4f7162f7f8e1.jpg: 640x640 4 Vitexnegundos, 7.4ms\n",
            "image 138/219 /content/drive/MyDrive/AyushVision/yolo8/dataset/ayushvision_flowers/test/images/IMG20240615182250_jpg.rf.a9b25ff7f88a8a53b70c11c6c7f5e8a4.jpg: 640x640 1 Vitexnegundo, 7.8ms\n",
            "image 139/219 /content/drive/MyDrive/AyushVision/yolo8/dataset/ayushvision_flowers/test/images/IMG20240615182327_jpg.rf.ea50c0aaea5cebc3549c7d5cf0c8c385.jpg: 640x640 1 Vitexnegundo, 7.3ms\n",
            "image 140/219 /content/drive/MyDrive/AyushVision/yolo8/dataset/ayushvision_flowers/test/images/IMG20240709164200_jpg.rf.9df85f10824d01e086e699dcdea10df9.jpg: 640x640 2 calotropis_giganteas, 7.3ms\n",
            "image 141/219 /content/drive/MyDrive/AyushVision/yolo8/dataset/ayushvision_flowers/test/images/IMG20240709164329_jpg.rf.0d5c56e692355644542be3ef38fc6c62.jpg: 640x640 1 calotropis_gigantea, 8.8ms\n",
            "image 142/219 /content/drive/MyDrive/AyushVision/yolo8/dataset/ayushvision_flowers/test/images/IMG20240709164836_jpg.rf.8b3cd37a5f953deb5213efdb17e6438f.jpg: 640x640 5 calotropis_giganteas, 9.6ms\n",
            "image 143/219 /content/drive/MyDrive/AyushVision/yolo8/dataset/ayushvision_flowers/test/images/IMG20240709164901_jpg.rf.b2b1d0e3645380864442ab539ba519e7.jpg: 640x640 3 calotropis_giganteas, 11.2ms\n",
            "image 144/219 /content/drive/MyDrive/AyushVision/yolo8/dataset/ayushvision_flowers/test/images/IMG20240709164914_jpg.rf.41afcbe3bb4445456c4d8fdd061c0492.jpg: 640x640 3 calotropis_giganteas, 15.3ms\n",
            "image 145/219 /content/drive/MyDrive/AyushVision/yolo8/dataset/ayushvision_flowers/test/images/IMG20240709165233_jpg.rf.a5456550201b787fb0b0c861ce72ea86.jpg: 640x640 7 calotropis_giganteas, 13.0ms\n",
            "image 146/219 /content/drive/MyDrive/AyushVision/yolo8/dataset/ayushvision_flowers/test/images/IMG20240709165423_jpg.rf.3a3c3f1efe56b015ed42f2aeed02a884.jpg: 640x640 4 calotropis_giganteas, 15.2ms\n",
            "image 147/219 /content/drive/MyDrive/AyushVision/yolo8/dataset/ayushvision_flowers/test/images/IMG20240709165637_jpg.rf.e3109cfd2ac84485f82703b86b440c33.jpg: 640x640 1 calotropis_gigantea, 16.4ms\n",
            "image 148/219 /content/drive/MyDrive/AyushVision/yolo8/dataset/ayushvision_flowers/test/images/IMG20240709165724_jpg.rf.944d75258b33a9c1bbe9868c1bcd5cb4.jpg: 640x640 4 calotropis_giganteas, 24.2ms\n",
            "image 149/219 /content/drive/MyDrive/AyushVision/yolo8/dataset/ayushvision_flowers/test/images/IMG20240709165801_jpg.rf.8bafe4e15cefbe929a31fa9c3ddb4fd4.jpg: 640x640 5 calotropis_giganteas, 15.5ms\n",
            "image 150/219 /content/drive/MyDrive/AyushVision/yolo8/dataset/ayushvision_flowers/test/images/IMG20240709165845_jpg.rf.cbd17b5573f683779ff3428caa840e31.jpg: 640x640 11 calotropis_giganteas, 11.1ms\n",
            "image 151/219 /content/drive/MyDrive/AyushVision/yolo8/dataset/ayushvision_flowers/test/images/IMG20240709165852_jpg.rf.4bd3005c455ab177a5a90be13520fa13.jpg: 640x640 7 calotropis_giganteas, 19.0ms\n",
            "image 152/219 /content/drive/MyDrive/AyushVision/yolo8/dataset/ayushvision_flowers/test/images/IMG20240709170218_jpg.rf.a9ba4570fe959c1752ccbfe433720a12.jpg: 640x640 1 calotropis_gigantea, 17.9ms\n",
            "image 153/219 /content/drive/MyDrive/AyushVision/yolo8/dataset/ayushvision_flowers/test/images/IMG20240709170311_jpg.rf.be5b0207e336c2d9ff031ea7db6ed8ed.jpg: 640x640 1 calotropis_gigantea, 17.5ms\n",
            "image 154/219 /content/drive/MyDrive/AyushVision/yolo8/dataset/ayushvision_flowers/test/images/IMG20240709170410_jpg.rf.022daa51cf9d5ec76b4dba1392cc4af9.jpg: 640x640 1 calotropis_gigantea, 13.4ms\n",
            "image 155/219 /content/drive/MyDrive/AyushVision/yolo8/dataset/ayushvision_flowers/test/images/IMG20240709170441_jpg.rf.5e87e5d8171e2e0d1b5f17678106b296.jpg: 640x640 1 calotropis_gigantea, 9.0ms\n",
            "image 156/219 /content/drive/MyDrive/AyushVision/yolo8/dataset/ayushvision_flowers/test/images/IMG20240709170443_jpg.rf.32879c668960298b09ef1aa7ed93da98.jpg: 640x640 1 calotropis_gigantea, 13.2ms\n",
            "image 157/219 /content/drive/MyDrive/AyushVision/yolo8/dataset/ayushvision_flowers/test/images/IMG20240709170513_jpg.rf.6dcbf39fdfe5e762e4a2a5ef075d821d.jpg: 640x640 1 calotropis_gigantea, 9.6ms\n",
            "image 158/219 /content/drive/MyDrive/AyushVision/yolo8/dataset/ayushvision_flowers/test/images/IMG20240709170516_jpg.rf.5f537ed131282b4b4c043c0760aec2cc.jpg: 640x640 1 calotropis_gigantea, 9.1ms\n",
            "image 159/219 /content/drive/MyDrive/AyushVision/yolo8/dataset/ayushvision_flowers/test/images/IMG_20231229_104019_1-jpg6-jpg8_jpg.rf.8e0f1a179243d6c7909d0765b9e136df.jpg: 640x640 1 Ringworm_plant, 9.0ms\n",
            "image 160/219 /content/drive/MyDrive/AyushVision/yolo8/dataset/ayushvision_flowers/test/images/IMG_20240427_0934419_jpg.rf.aebbb4c12c43064e108c4b06f4971293.jpg: 640x640 1 adamant_creeper, 9.1ms\n",
            "image 161/219 /content/drive/MyDrive/AyushVision/yolo8/dataset/ayushvision_flowers/test/images/IMG_20240427_093441_jpg.rf.6ea938edf9c89a0fc873faf43aefc013.jpg: 640x640 1 adamant_creeper, 8.8ms\n",
            "image 162/219 /content/drive/MyDrive/AyushVision/yolo8/dataset/ayushvision_flowers/test/images/IMG_20240427_093816_jpg.rf.bdd55ab3fcbda389ed7ee34eb31ac276.jpg: 640x640 1 adamant_creeper, 8.8ms\n",
            "image 163/219 /content/drive/MyDrive/AyushVision/yolo8/dataset/ayushvision_flowers/test/images/IMG_20240427_093836_jpg.rf.864adc24985c658dda7c6dd3bd7d1bb8.jpg: 640x640 2 adamant_creepers, 9.0ms\n",
            "image 164/219 /content/drive/MyDrive/AyushVision/yolo8/dataset/ayushvision_flowers/test/images/IMG_20240427_093907_jpg.rf.ce336a7389ee6a8f5fb75d5128286057.jpg: 640x640 1 adamant_creeper, 9.5ms\n",
            "image 165/219 /content/drive/MyDrive/AyushVision/yolo8/dataset/ayushvision_flowers/test/images/IMG_20240427_093920_jpg.rf.4acaa4ad2f8b7d2435e2c3a70a3525be.jpg: 640x640 1 adamant_creeper, 9.4ms\n",
            "image 166/219 /content/drive/MyDrive/AyushVision/yolo8/dataset/ayushvision_flowers/test/images/IMG_20240427_093952_16_jpg.rf.33b5b9d522de85ea83efc99b17ad2457.jpg: 640x640 1 adamant_creeper, 9.4ms\n",
            "image 167/219 /content/drive/MyDrive/AyushVision/yolo8/dataset/ayushvision_flowers/test/images/IMG_20240427_093952_jpg.rf.5ecd60c7baf4a49f0890171e2f2514f6.jpg: 640x640 1 adamant_creeper, 13.3ms\n",
            "image 168/219 /content/drive/MyDrive/AyushVision/yolo8/dataset/ayushvision_flowers/test/images/IMG_20240427_094218_jpg.rf.65888ca31d4bd19a3fdb40260cdc5efc.jpg: 640x640 2 adamant_creepers, 10.6ms\n",
            "image 169/219 /content/drive/MyDrive/AyushVision/yolo8/dataset/ayushvision_flowers/test/images/IMG_20240427_094228_jpg.rf.a91ad29a2e825b4be40aa79b9fa2d31c.jpg: 640x640 1 adamant_creeper, 10.3ms\n",
            "image 170/219 /content/drive/MyDrive/AyushVision/yolo8/dataset/ayushvision_flowers/test/images/IMG_20240427_094301_jpg.rf.5db42bad1cecdc9d7c8524bbead5eb93.jpg: 640x640 1 adamant_creeper, 10.2ms\n",
            "image 171/219 /content/drive/MyDrive/AyushVision/yolo8/dataset/ayushvision_flowers/test/images/IMG_20240427_094441_jpg.rf.4a144826d5056f160b6b2d520fc34b33.jpg: 640x640 5 adamant_creepers, 10.3ms\n",
            "image 172/219 /content/drive/MyDrive/AyushVision/yolo8/dataset/ayushvision_flowers/test/images/IMG_20240427_094549_jpg.rf.6dd0ba9fea5cd073373c5a9e9e675431.jpg: 640x640 2 adamant_creepers, 10.6ms\n",
            "image 173/219 /content/drive/MyDrive/AyushVision/yolo8/dataset/ayushvision_flowers/test/images/IMG_20240427_094620_jpg.rf.0dd5e38ba0a0c3e7c0a4b788602eef69.jpg: 640x640 1 adamant_creeper, 9.7ms\n",
            "image 174/219 /content/drive/MyDrive/AyushVision/yolo8/dataset/ayushvision_flowers/test/images/IMG_20240427_094709_jpg.rf.cc7ba5e535e805423fb1601e3187a0c3.jpg: 640x640 2 adamant_creepers, 14.9ms\n",
            "image 175/219 /content/drive/MyDrive/AyushVision/yolo8/dataset/ayushvision_flowers/test/images/IMG_20240427_094730_jpg.rf.af9e9e6e5f73de8bc607b8d3d6a81581.jpg: 640x640 1 adamant_creeper, 12.9ms\n",
            "image 176/219 /content/drive/MyDrive/AyushVision/yolo8/dataset/ayushvision_flowers/test/images/IMG_20240427_094842_jpg.rf.0dcb3450d07702534149c803717950ae.jpg: 640x640 1 adamant_creeper, 13.9ms\n",
            "image 177/219 /content/drive/MyDrive/AyushVision/yolo8/dataset/ayushvision_flowers/test/images/IMG_20240427_094843_jpg.rf.dcf925b6a52f8c4ad92a9e580b87352e.jpg: 640x640 (no detections), 8.9ms\n",
            "image 178/219 /content/drive/MyDrive/AyushVision/yolo8/dataset/ayushvision_flowers/test/images/IMG_20240427_094847_jpg.rf.0d185310b62328054f34cc93b1b4887a.jpg: 640x640 (no detections), 9.4ms\n",
            "image 179/219 /content/drive/MyDrive/AyushVision/yolo8/dataset/ayushvision_flowers/test/images/IMG_20240427_094909_jpg.rf.07a847ce1b70d1b1c75b156a8b4bf83d.jpg: 640x640 1 adamant_creeper, 8.4ms\n",
            "image 180/219 /content/drive/MyDrive/AyushVision/yolo8/dataset/ayushvision_flowers/test/images/IMG_20240502_173308_jpg.rf.44af783c80df6b79345787549ddc7190.jpg: 640x640 1 Ringworm_plant, 8.8ms\n",
            "image 181/219 /content/drive/MyDrive/AyushVision/yolo8/dataset/ayushvision_flowers/test/images/IMG_20240502_173645_jpg.rf.7b2139a2c18d0216f9ff80cf90dd3a06.jpg: 640x640 1 Ringworm_plant, 8.4ms\n",
            "image 182/219 /content/drive/MyDrive/AyushVision/yolo8/dataset/ayushvision_flowers/test/images/IMG_20240502_173707_jpg.rf.8082a3f7b5eacf1dadecdac4f93ef8d7.jpg: 640x640 1 Ringworm_plant, 11.8ms\n",
            "image 183/219 /content/drive/MyDrive/AyushVision/yolo8/dataset/ayushvision_flowers/test/images/IMG_20240502_173800_jpg.rf.c588ff9ee8d9a61401e152ad9bee1809.jpg: 640x640 1 Ringworm_plant, 10.4ms\n",
            "image 184/219 /content/drive/MyDrive/AyushVision/yolo8/dataset/ayushvision_flowers/test/images/IMG_20240502_173815_jpg.rf.3d1c75824b5c687c87dde55d744d6a4e.jpg: 640x640 (no detections), 15.0ms\n",
            "image 185/219 /content/drive/MyDrive/AyushVision/yolo8/dataset/ayushvision_flowers/test/images/IMG_20240502_174001_jpg.rf.e078850d3872e1087209fb38a76f4daa.jpg: 640x640 1 Ringworm_plant, 11.8ms\n",
            "image 186/219 /content/drive/MyDrive/AyushVision/yolo8/dataset/ayushvision_flowers/test/images/IMG_20240502_174013_jpg.rf.43c636f405bea54aa36c1a96722f38d6.jpg: 640x640 1 Ringworm_plant, 13.9ms\n",
            "image 187/219 /content/drive/MyDrive/AyushVision/yolo8/dataset/ayushvision_flowers/test/images/IMG_20240502_182620_jpg.rf.64ff5c5b25c2c3433355437d2e0eb110.jpg: 640x640 2 Ringworm_plants, 11.4ms\n",
            "image 188/219 /content/drive/MyDrive/AyushVision/yolo8/dataset/ayushvision_flowers/test/images/IMG_20240502_182914_jpg.rf.37dceb89be7a8622fbc7eb09f4e95d6d.jpg: 640x640 2 Ringworm_plants, 9.7ms\n",
            "image 189/219 /content/drive/MyDrive/AyushVision/yolo8/dataset/ayushvision_flowers/test/images/IMG_20240502_183330_jpg.rf.ad4ce37f54357d0d10693b472003f498.jpg: 640x640 1 Ringworm_plant, 13.9ms\n",
            "image 190/219 /content/drive/MyDrive/AyushVision/yolo8/dataset/ayushvision_flowers/test/images/IMG_20240502_183339_jpg.rf.37d53e5cc6c6ba96da5e97f1e7f4f98e.jpg: 640x640 1 Ringworm_plant, 14.0ms\n",
            "image 191/219 /content/drive/MyDrive/AyushVision/yolo8/dataset/ayushvision_flowers/test/images/IMG_20240502_183551_jpg.rf.d9b31055ec4fff8344166b1d313661e2.jpg: 640x640 1 Ringworm_plant, 12.6ms\n",
            "image 192/219 /content/drive/MyDrive/AyushVision/yolo8/dataset/ayushvision_flowers/test/images/IMG_20240502_192455_jpg.rf.a0a78565f8bd864e510d2e1ee3dae828.jpg: 640x640 1 Ringworm_plant, 13.9ms\n",
            "image 193/219 /content/drive/MyDrive/AyushVision/yolo8/dataset/ayushvision_flowers/test/images/IMG_20240502_192618_jpg.rf.9c8f49c141c1d1650a3caf8ec5c5d5cd.jpg: 640x640 1 Ringworm_plant, 11.6ms\n",
            "image 194/219 /content/drive/MyDrive/AyushVision/yolo8/dataset/ayushvision_flowers/test/images/IMG_20240502_192937_jpg.rf.9cc55143084294f34f9bd5346acc413d.jpg: 640x640 1 Ringworm_plant, 14.4ms\n",
            "image 195/219 /content/drive/MyDrive/AyushVision/yolo8/dataset/ayushvision_flowers/test/images/IMG_20240502_192942_jpg.rf.8537d9baeeed9628b82d10906b742d3d.jpg: 640x640 1 Ringworm_plant, 12.0ms\n",
            "image 196/219 /content/drive/MyDrive/AyushVision/yolo8/dataset/ayushvision_flowers/test/images/IMG_20240503_091144_jpg.rf.3e57c19d557c65c864385037c42b87bf.jpg: 640x640 1 Ringworm_plant, 12.5ms\n",
            "image 197/219 /content/drive/MyDrive/AyushVision/yolo8/dataset/ayushvision_flowers/test/images/IMG_20240503_091156_jpg.rf.343af42c0fbe250276e855053352c02e.jpg: 640x640 1 Ringworm_plant, 16.0ms\n",
            "image 198/219 /content/drive/MyDrive/AyushVision/yolo8/dataset/ayushvision_flowers/test/images/IMG_20240503_091646_jpg.rf.853e6db27c0191b6604a40016228d4d1.jpg: 640x640 1 Ringworm_plant, 11.0ms\n",
            "image 199/219 /content/drive/MyDrive/AyushVision/yolo8/dataset/ayushvision_flowers/test/images/IMG_20240506_120145_jpg.rf.115cf7b8c6f4471f2638ef7571e52a3e.jpg: 640x640 1 Thorn_apple, 10.9ms\n",
            "image 200/219 /content/drive/MyDrive/AyushVision/yolo8/dataset/ayushvision_flowers/test/images/IMG_20240506_120245_jpg.rf.7427b600275aa14b9a4dfca73b7b1a73.jpg: 640x640 1 Thorn_apple, 11.0ms\n",
            "image 201/219 /content/drive/MyDrive/AyushVision/yolo8/dataset/ayushvision_flowers/test/images/IMG_20240506_120332_jpg.rf.023caba3916b0ff2ceb423b2f02644b1.jpg: 640x640 1 Thorn_apple, 11.0ms\n",
            "image 202/219 /content/drive/MyDrive/AyushVision/yolo8/dataset/ayushvision_flowers/test/images/IMG_20240506_120944_jpg.rf.f39818a31a04ae7cd0982f561ccc95fd.jpg: 640x640 1 Thorn_apple, 13.2ms\n",
            "image 203/219 /content/drive/MyDrive/AyushVision/yolo8/dataset/ayushvision_flowers/test/images/IMG_20240610_095918_jpg.rf.d11b220ee94b537a09f98417d1384bcc.jpg: 640x640 2 calotropis_giganteas, 15.2ms\n",
            "image 204/219 /content/drive/MyDrive/AyushVision/yolo8/dataset/ayushvision_flowers/test/images/IMG_20240616_154130_jpg.rf.dde9dc4c7d3354250cdfeef17e89e3be.jpg: 640x640 1 Thorn_apple, 9.2ms\n",
            "image 205/219 /content/drive/MyDrive/AyushVision/yolo8/dataset/ayushvision_flowers/test/images/IMG_20240616_154254_jpg.rf.5c22dbe4544ea229dbb0e63e764e9505.jpg: 640x640 1 Thorn_apple, 10.5ms\n",
            "image 206/219 /content/drive/MyDrive/AyushVision/yolo8/dataset/ayushvision_flowers/test/images/IMG_20240616_154439_jpg.rf.bbbdef7e2ddb091772edc3776a1d3897.jpg: 640x640 2 Thorn_apples, 11.0ms\n",
            "image 207/219 /content/drive/MyDrive/AyushVision/yolo8/dataset/ayushvision_flowers/test/images/IMG_20240616_154508_jpg.rf.40decf19d5f1e7399a75b38310a84e06.jpg: 640x640 1 Hibiscus, 1 Thorn_apple, 9.1ms\n",
            "image 208/219 /content/drive/MyDrive/AyushVision/yolo8/dataset/ayushvision_flowers/test/images/IMG_20240616_154539_jpg.rf.a0be86056b2ef86d5be5a5e72fc9a94b.jpg: 640x640 1 Thorn_apple, 9.1ms\n",
            "image 209/219 /content/drive/MyDrive/AyushVision/yolo8/dataset/ayushvision_flowers/test/images/IMG_20240616_154603_jpg.rf.3727e05536518171e787ce1374fe6fd0.jpg: 640x640 1 Thorn_apple, 8.8ms\n",
            "image 210/219 /content/drive/MyDrive/AyushVision/yolo8/dataset/ayushvision_flowers/test/images/IMG_20240616_154615_jpg.rf.3b441db76ed5c48b3229a1ef15689373.jpg: 640x640 1 Thorn_apple, 13.7ms\n",
            "image 211/219 /content/drive/MyDrive/AyushVision/yolo8/dataset/ayushvision_flowers/test/images/IMG_20240616_154631_jpg.rf.0d772e4aba0b83cb7275fb2d00e4e155.jpg: 640x640 1 Ringworm_plant, 11.2ms\n",
            "image 212/219 /content/drive/MyDrive/AyushVision/yolo8/dataset/ayushvision_flowers/test/images/IMG_20240616_154647_jpg.rf.ec4b53baf3cb5f0b04f90bbfae26ebed.jpg: 640x640 2 Thorn_apples, 8.2ms\n",
            "image 213/219 /content/drive/MyDrive/AyushVision/yolo8/dataset/ayushvision_flowers/test/images/IMG_20240616_154711_jpg.rf.586608dd0208ff1d9c98b0ab0d499a9f.jpg: 640x640 1 Thorn_apple, 8.4ms\n",
            "image 214/219 /content/drive/MyDrive/AyushVision/yolo8/dataset/ayushvision_flowers/test/images/IMG_20240616_154918_jpg.rf.c7021500f6db66992bcbf7d2582bb48d.jpg: 640x640 1 Thorn_apple, 8.6ms\n",
            "image 215/219 /content/drive/MyDrive/AyushVision/yolo8/dataset/ayushvision_flowers/test/images/IMG_20240616_154943_jpg.rf.ab06d08541a1d6b37192abdf41a61fdb.jpg: 640x640 1 Thorn_apple, 24.8ms\n",
            "image 216/219 /content/drive/MyDrive/AyushVision/yolo8/dataset/ayushvision_flowers/test/images/IMG_20240616_155030_jpg.rf.ca7363b2483f0facb5fa466127e22c5f.jpg: 640x640 1 Thorn_apple, 8.5ms\n",
            "image 217/219 /content/drive/MyDrive/AyushVision/yolo8/dataset/ayushvision_flowers/test/images/IMG_20240616_155214_jpg.rf.5769c1a9c7e7032af614ec52140cb684.jpg: 640x640 1 Thorn_apple, 8.6ms\n",
            "image 218/219 /content/drive/MyDrive/AyushVision/yolo8/dataset/ayushvision_flowers/test/images/IMG_20240616_160222_1_jpg.rf.ffc6858a2b9f2afdbb92e02a8e3464ec.jpg: 640x640 1 Thorn_apple, 8.3ms\n",
            "image 219/219 /content/drive/MyDrive/AyushVision/yolo8/dataset/ayushvision_flowers/test/images/IMG_20240616_160222_jpg.rf.4a9590788671e46cc32719b082a773c7.jpg: 640x640 1 Thorn_apple, 9.0ms\n",
            "Speed: 3.0ms preprocess, 9.5ms inference, 1.7ms postprocess per image at shape (1, 3, 640, 640)\n",
            "Results saved to \u001b[1mruns/detect/predict3\u001b[0m\n"
          ]
        }
      ],
      "source": [
        "\n",
        "results=model.predict(source=f'{work_dirctory_root}/dataset/ayushvision_flowers/test/images',save=True)"
      ]
    },
    {
      "cell_type": "code",
      "execution_count": 180,
      "metadata": {
        "id": "hB4kWph9xI05"
      },
      "outputs": [],
      "source": [
        "predicts=[]"
      ]
    },
    {
      "cell_type": "code",
      "execution_count": 181,
      "metadata": {
        "id": "_gWIS5rDx1Fd"
      },
      "outputs": [],
      "source": [
        "for file in os.listdir(results[0].save_dir):\n",
        "  if os.path.isfile(f\"{results[0].save_dir}/{file}\"):\n",
        "    blob = bucket.blob(f\"yolo/flower/predict/{epochs}/{file}\")\n",
        "    blob.upload_from_filename(f\"{results[0].save_dir}/{file}\")\n",
        "    blob.make_public()\n",
        "    predicts.append(blob.public_url)"
      ]
    },
    {
      "cell_type": "code",
      "execution_count": 182,
      "metadata": {
        "id": "34-zsVB32uF8",
        "colab": {
          "base_uri": "https://localhost:8080/"
        },
        "outputId": "4c51bb28-c0cf-4938-b0e9-e989e487d620"
      },
      "outputs": [
        {
          "output_type": "execute_result",
          "data": {
            "text/plain": [
              "(DatetimeWithNanoseconds(2024, 8, 21, 7, 25, 32, 259635, tzinfo=datetime.timezone.utc),\n",
              " <google.cloud.firestore_v1.document.DocumentReference at 0x7c836eda3d60>)"
            ]
          },
          "metadata": {},
          "execution_count": 182
        }
      ],
      "source": [
        "today_ref.collection('Predict').add({\n",
        "    'files':predicts\n",
        "})"
      ]
    },
    {
      "cell_type": "markdown",
      "metadata": {
        "id": "IQWY9Bqbn7Hq"
      },
      "source": [
        "### Export Model"
      ]
    },
    {
      "cell_type": "code",
      "execution_count": 183,
      "metadata": {
        "colab": {
          "base_uri": "https://localhost:8080/",
          "height": 281
        },
        "id": "YezH7LaIn7Hq",
        "outputId": "8f6b18f6-97f9-4681-eaca-2a1fcc9ab114"
      },
      "outputs": [
        {
          "output_type": "stream",
          "name": "stdout",
          "text": [
            "Ultralytics YOLOv8.2.79 🚀 Python-3.10.12 torch-2.3.1+cu121 CPU (Intel Xeon 2.20GHz)\n",
            "\n",
            "\u001b[34m\u001b[1mPyTorch:\u001b[0m starting from '/content/drive/MyDrive/AyushVision/yolo8/training/21_08_2024/flowers/runs/train30/weights/best.pt' with input shape (1, 3, 640, 640) BCHW and output shape(s) (1, 16, 8400) (6.0 MB)\n",
            "\n",
            "\u001b[34m\u001b[1mONNX:\u001b[0m starting export with onnx 1.16.2 opset 17...\n",
            "\u001b[34m\u001b[1mONNX:\u001b[0m slimming with onnxslim 0.1.32...\n",
            "\u001b[34m\u001b[1mONNX:\u001b[0m export success ✅ 23.7s, saved as '/content/drive/MyDrive/AyushVision/yolo8/training/21_08_2024/flowers/runs/train30/weights/best.onnx' (11.6 MB)\n",
            "\n",
            "Export complete (25.7s)\n",
            "Results saved to \u001b[1m/content/drive/MyDrive/AyushVision/yolo8/training/21_08_2024/flowers/runs/train30/weights\u001b[0m\n",
            "Predict:         yolo predict task=detect model=/content/drive/MyDrive/AyushVision/yolo8/training/21_08_2024/flowers/runs/train30/weights/best.onnx imgsz=640  \n",
            "Validate:        yolo val task=detect model=/content/drive/MyDrive/AyushVision/yolo8/training/21_08_2024/flowers/runs/train30/weights/best.onnx imgsz=640 data=/content/drive/MyDrive/AyushVision/yolo8/dataset/ayushvision_flowers/data.yaml  \n",
            "Visualize:       https://netron.app\n"
          ]
        },
        {
          "output_type": "execute_result",
          "data": {
            "text/plain": [
              "'/content/drive/MyDrive/AyushVision/yolo8/training/21_08_2024/flowers/runs/train30/weights/best.onnx'"
            ],
            "application/vnd.google.colaboratory.intrinsic+json": {
              "type": "string"
            }
          },
          "metadata": {},
          "execution_count": 183
        }
      ],
      "source": [
        "format='onnx'\n",
        "model.export(format=format,keras=True,dynamic=True,simplify=True,)"
      ]
    },
    {
      "cell_type": "code",
      "execution_count": 184,
      "metadata": {
        "id": "v5HGcR1t5xnO"
      },
      "outputs": [],
      "source": [
        "blob = bucket.blob(f\"yolo/flowers/model/{epochs}/best.onnx\")\n",
        "blob.upload_from_filename(f\"{today_work_dirctory}/flowers/runs/{name}/weights/best.onnx\")\n",
        "blob.make_public()"
      ]
    },
    {
      "cell_type": "code",
      "execution_count": 185,
      "metadata": {
        "id": "Y0czVsQg5Kjr",
        "colab": {
          "base_uri": "https://localhost:8080/"
        },
        "outputId": "0fca9c0d-fa51-4b4a-bd5e-de6497b1a6b7"
      },
      "outputs": [
        {
          "output_type": "execute_result",
          "data": {
            "text/plain": [
              "(DatetimeWithNanoseconds(2024, 8, 21, 7, 26, 0, 899386, tzinfo=datetime.timezone.utc),\n",
              " <google.cloud.firestore_v1.document.DocumentReference at 0x7c838e93feb0>)"
            ]
          },
          "metadata": {},
          "execution_count": 185
        }
      ],
      "source": [
        "today_ref.collection('Model').add({\n",
        "    'format':format,\n",
        "    \"keras\":True,\n",
        "    \"dynamic\":True,\n",
        "    \"simplify\":True,\n",
        "    \"model\":blob.public_url\n",
        "})"
      ]
    }
  ],
  "metadata": {
    "accelerator": "GPU",
    "colab": {
      "gpuType": "T4",
      "provenance": [],
      "include_colab_link": true
    },
    "kernelspec": {
      "display_name": "Python 3",
      "name": "python3"
    },
    "language_info": {
      "name": "python"
    }
  },
  "nbformat": 4,
  "nbformat_minor": 0
}